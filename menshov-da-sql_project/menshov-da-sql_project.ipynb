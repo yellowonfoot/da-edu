{
 "cells": [
  {
   "cell_type": "markdown",
   "metadata": {},
   "source": [
    "# Проект по SQL\n",
    "\n",
    "Коронавирус застал мир врасплох, изменив привычный порядок вещей. В свободное время жители городов больше не выходят на улицу, не посещают кафе и торговые центры. Зато стало больше времени для книг. Это заметили стартаперы — и бросились создавать приложения для тех, кто любит читать.\n",
    "\n",
    "Ваша компания решила быть на волне и купила крупный сервис для чтения книг по подписке. Ваша первая задача как аналитика — проанализировать базу данных. В ней — информация о книгах, издательствах, авторах, а также пользовательские обзоры книг. Эти данные помогут сформулировать ценностное предложение для нового продукта."
   ]
  },
  {
   "cell_type": "code",
   "execution_count": 1,
   "metadata": {},
   "outputs": [],
   "source": [
    "# технический блок со всем необходимым\n",
    "# импортируем библиотеки\n",
    "import pandas as pd\n",
    "from sqlalchemy import create_engine\n",
    "\n",
    "# устанавливаем параметры\n",
    "db_config = {'user': 'praktikum_student', # имя пользователя\n",
    "    'pwd': 'Sdf4$2;d-d30pp', # пароль\n",
    "    'host': 'rc1b-wcoijxj3yxfsf3fs.mdb.yandexcloud.net',\n",
    "    'port': 6432, # порт подключения\n",
    "    'db': 'data-analyst-final-project-db'} # название базы данных\n",
    "\n",
    "connection_string = 'postgresql://{}:{}@{}:{}/{}'.format(db_config['user'],\n",
    "    db_config['pwd'],\n",
    "    db_config['host'],\n",
    "    db_config['port'],\n",
    "    db_config['db'])\n",
    "\n",
    "# сохраняем коннектор\n",
    "engine = create_engine(connection_string, connect_args={'sslmode':'require'})"
   ]
  },
  {
   "cell_type": "markdown",
   "metadata": {},
   "source": [
    "## Нулевое задание\n",
    "\n",
    "Исследуйте таблицы — выведите первые строки."
   ]
  },
  {
   "cell_type": "code",
   "execution_count": 2,
   "metadata": {
    "scrolled": false
   },
   "outputs": [
    {
     "name": "stdout",
     "output_type": "stream",
     "text": [
      "Пример таблицы books\n"
     ]
    },
    {
     "data": {
      "text/html": [
       "<div>\n",
       "<style scoped>\n",
       "    .dataframe tbody tr th:only-of-type {\n",
       "        vertical-align: middle;\n",
       "    }\n",
       "\n",
       "    .dataframe tbody tr th {\n",
       "        vertical-align: top;\n",
       "    }\n",
       "\n",
       "    .dataframe thead th {\n",
       "        text-align: right;\n",
       "    }\n",
       "</style>\n",
       "<table border=\"1\" class=\"dataframe\">\n",
       "  <thead>\n",
       "    <tr style=\"text-align: right;\">\n",
       "      <th></th>\n",
       "      <th>book_id</th>\n",
       "      <th>author_id</th>\n",
       "      <th>title</th>\n",
       "      <th>num_pages</th>\n",
       "      <th>publication_date</th>\n",
       "      <th>publisher_id</th>\n",
       "    </tr>\n",
       "  </thead>\n",
       "  <tbody>\n",
       "    <tr>\n",
       "      <th>0</th>\n",
       "      <td>1</td>\n",
       "      <td>546</td>\n",
       "      <td>'Salem's Lot</td>\n",
       "      <td>594</td>\n",
       "      <td>2005-11-01</td>\n",
       "      <td>93</td>\n",
       "    </tr>\n",
       "  </tbody>\n",
       "</table>\n",
       "</div>"
      ],
      "text/plain": [
       "   book_id  author_id         title  num_pages publication_date  publisher_id\n",
       "0        1        546  'Salem's Lot        594       2005-11-01            93"
      ]
     },
     "metadata": {},
     "output_type": "display_data"
    },
    {
     "name": "stdout",
     "output_type": "stream",
     "text": [
      "====================================================================================================\n",
      "Пример таблицы authors\n"
     ]
    },
    {
     "data": {
      "text/html": [
       "<div>\n",
       "<style scoped>\n",
       "    .dataframe tbody tr th:only-of-type {\n",
       "        vertical-align: middle;\n",
       "    }\n",
       "\n",
       "    .dataframe tbody tr th {\n",
       "        vertical-align: top;\n",
       "    }\n",
       "\n",
       "    .dataframe thead th {\n",
       "        text-align: right;\n",
       "    }\n",
       "</style>\n",
       "<table border=\"1\" class=\"dataframe\">\n",
       "  <thead>\n",
       "    <tr style=\"text-align: right;\">\n",
       "      <th></th>\n",
       "      <th>author_id</th>\n",
       "      <th>author</th>\n",
       "    </tr>\n",
       "  </thead>\n",
       "  <tbody>\n",
       "    <tr>\n",
       "      <th>0</th>\n",
       "      <td>1</td>\n",
       "      <td>A.S. Byatt</td>\n",
       "    </tr>\n",
       "  </tbody>\n",
       "</table>\n",
       "</div>"
      ],
      "text/plain": [
       "   author_id      author\n",
       "0          1  A.S. Byatt"
      ]
     },
     "metadata": {},
     "output_type": "display_data"
    },
    {
     "name": "stdout",
     "output_type": "stream",
     "text": [
      "====================================================================================================\n",
      "Пример таблицы publishers\n"
     ]
    },
    {
     "data": {
      "text/html": [
       "<div>\n",
       "<style scoped>\n",
       "    .dataframe tbody tr th:only-of-type {\n",
       "        vertical-align: middle;\n",
       "    }\n",
       "\n",
       "    .dataframe tbody tr th {\n",
       "        vertical-align: top;\n",
       "    }\n",
       "\n",
       "    .dataframe thead th {\n",
       "        text-align: right;\n",
       "    }\n",
       "</style>\n",
       "<table border=\"1\" class=\"dataframe\">\n",
       "  <thead>\n",
       "    <tr style=\"text-align: right;\">\n",
       "      <th></th>\n",
       "      <th>publisher_id</th>\n",
       "      <th>publisher</th>\n",
       "    </tr>\n",
       "  </thead>\n",
       "  <tbody>\n",
       "    <tr>\n",
       "      <th>0</th>\n",
       "      <td>1</td>\n",
       "      <td>Ace</td>\n",
       "    </tr>\n",
       "  </tbody>\n",
       "</table>\n",
       "</div>"
      ],
      "text/plain": [
       "   publisher_id publisher\n",
       "0             1       Ace"
      ]
     },
     "metadata": {},
     "output_type": "display_data"
    },
    {
     "name": "stdout",
     "output_type": "stream",
     "text": [
      "====================================================================================================\n",
      "Пример таблицы ratings\n"
     ]
    },
    {
     "data": {
      "text/html": [
       "<div>\n",
       "<style scoped>\n",
       "    .dataframe tbody tr th:only-of-type {\n",
       "        vertical-align: middle;\n",
       "    }\n",
       "\n",
       "    .dataframe tbody tr th {\n",
       "        vertical-align: top;\n",
       "    }\n",
       "\n",
       "    .dataframe thead th {\n",
       "        text-align: right;\n",
       "    }\n",
       "</style>\n",
       "<table border=\"1\" class=\"dataframe\">\n",
       "  <thead>\n",
       "    <tr style=\"text-align: right;\">\n",
       "      <th></th>\n",
       "      <th>rating_id</th>\n",
       "      <th>book_id</th>\n",
       "      <th>username</th>\n",
       "      <th>rating</th>\n",
       "    </tr>\n",
       "  </thead>\n",
       "  <tbody>\n",
       "    <tr>\n",
       "      <th>0</th>\n",
       "      <td>1</td>\n",
       "      <td>1</td>\n",
       "      <td>ryanfranco</td>\n",
       "      <td>4</td>\n",
       "    </tr>\n",
       "  </tbody>\n",
       "</table>\n",
       "</div>"
      ],
      "text/plain": [
       "   rating_id  book_id    username  rating\n",
       "0          1        1  ryanfranco       4"
      ]
     },
     "metadata": {},
     "output_type": "display_data"
    },
    {
     "name": "stdout",
     "output_type": "stream",
     "text": [
      "====================================================================================================\n",
      "Пример таблицы reviews\n"
     ]
    },
    {
     "data": {
      "text/html": [
       "<div>\n",
       "<style scoped>\n",
       "    .dataframe tbody tr th:only-of-type {\n",
       "        vertical-align: middle;\n",
       "    }\n",
       "\n",
       "    .dataframe tbody tr th {\n",
       "        vertical-align: top;\n",
       "    }\n",
       "\n",
       "    .dataframe thead th {\n",
       "        text-align: right;\n",
       "    }\n",
       "</style>\n",
       "<table border=\"1\" class=\"dataframe\">\n",
       "  <thead>\n",
       "    <tr style=\"text-align: right;\">\n",
       "      <th></th>\n",
       "      <th>review_id</th>\n",
       "      <th>book_id</th>\n",
       "      <th>username</th>\n",
       "      <th>text</th>\n",
       "    </tr>\n",
       "  </thead>\n",
       "  <tbody>\n",
       "    <tr>\n",
       "      <th>0</th>\n",
       "      <td>1</td>\n",
       "      <td>1</td>\n",
       "      <td>brandtandrea</td>\n",
       "      <td>Mention society tell send professor analysis. ...</td>\n",
       "    </tr>\n",
       "  </tbody>\n",
       "</table>\n",
       "</div>"
      ],
      "text/plain": [
       "   review_id  book_id      username  \\\n",
       "0          1        1  brandtandrea   \n",
       "\n",
       "                                                text  \n",
       "0  Mention society tell send professor analysis. ...  "
      ]
     },
     "metadata": {},
     "output_type": "display_data"
    },
    {
     "name": "stdout",
     "output_type": "stream",
     "text": [
      "====================================================================================================\n"
     ]
    }
   ],
   "source": [
    "def table_test(table):\n",
    "    query = '''\n",
    "    SELECT *\n",
    "    FROM {0}\n",
    "    LIMIT 1\n",
    "    '''.format(table)\n",
    "    print('Пример таблицы {0}'.format(table))\n",
    "    display(pd.io.sql.read_sql(query, con = engine))\n",
    "    print('='*100)\n",
    "\n",
    "for table_name in ['books', 'authors', 'publishers', 'ratings', 'reviews']:\n",
    "    table_test(table_name)"
   ]
  },
  {
   "cell_type": "markdown",
   "metadata": {},
   "source": [
    "В целом, проблем по талицам не вижу, типы данных, заявленные в схеме соответствуют наполнению таблиц. Можно приступать к заданиям."
   ]
  },
  {
   "cell_type": "markdown",
   "metadata": {},
   "source": [
    "## Первое задание\n",
    "\n",
    "Посчитайте, сколько книг вышло после 1 января 2000 года."
   ]
  },
  {
   "cell_type": "code",
   "execution_count": 3,
   "metadata": {
    "scrolled": false
   },
   "outputs": [
    {
     "data": {
      "text/html": [
       "<div>\n",
       "<style scoped>\n",
       "    .dataframe tbody tr th:only-of-type {\n",
       "        vertical-align: middle;\n",
       "    }\n",
       "\n",
       "    .dataframe tbody tr th {\n",
       "        vertical-align: top;\n",
       "    }\n",
       "\n",
       "    .dataframe thead th {\n",
       "        text-align: right;\n",
       "    }\n",
       "</style>\n",
       "<table border=\"1\" class=\"dataframe\">\n",
       "  <thead>\n",
       "    <tr style=\"text-align: right;\">\n",
       "      <th></th>\n",
       "      <th>book_count</th>\n",
       "    </tr>\n",
       "  </thead>\n",
       "  <tbody>\n",
       "    <tr>\n",
       "      <th>0</th>\n",
       "      <td>821</td>\n",
       "    </tr>\n",
       "  </tbody>\n",
       "</table>\n",
       "</div>"
      ],
      "text/plain": [
       "   book_count\n",
       "0         821"
      ]
     },
     "metadata": {},
     "output_type": "display_data"
    }
   ],
   "source": [
    "query = '''\n",
    "SELECT COUNT(*) AS book_count\n",
    "FROM books\n",
    "WHERE publication_date >= '2000-01-01'\n",
    "'''\n",
    "display(pd.io.sql.read_sql(query, con = engine))"
   ]
  },
  {
   "cell_type": "markdown",
   "metadata": {},
   "source": [
    "После 1 января 2000 года была выпущена 821 книга."
   ]
  },
  {
   "cell_type": "markdown",
   "metadata": {},
   "source": [
    "## Второе задание\n",
    "\n",
    "Для каждой книги посчитайте количество обзоров и среднюю оценку. Дату публикации добавлю на случай, если были книги с одинаковыми названиями выходили в разные года.\n",
    "\n",
    "Чтобы потом себя проверить, выведем общее количество обзоров."
   ]
  },
  {
   "cell_type": "code",
   "execution_count": 5,
   "metadata": {},
   "outputs": [
    {
     "data": {
      "text/html": [
       "<div>\n",
       "<style scoped>\n",
       "    .dataframe tbody tr th:only-of-type {\n",
       "        vertical-align: middle;\n",
       "    }\n",
       "\n",
       "    .dataframe tbody tr th {\n",
       "        vertical-align: top;\n",
       "    }\n",
       "\n",
       "    .dataframe thead th {\n",
       "        text-align: right;\n",
       "    }\n",
       "</style>\n",
       "<table border=\"1\" class=\"dataframe\">\n",
       "  <thead>\n",
       "    <tr style=\"text-align: right;\">\n",
       "      <th></th>\n",
       "      <th>count</th>\n",
       "    </tr>\n",
       "  </thead>\n",
       "  <tbody>\n",
       "    <tr>\n",
       "      <th>0</th>\n",
       "      <td>2793</td>\n",
       "    </tr>\n",
       "  </tbody>\n",
       "</table>\n",
       "</div>"
      ],
      "text/plain": [
       "   count\n",
       "0   2793"
      ]
     },
     "metadata": {},
     "output_type": "display_data"
    }
   ],
   "source": [
    "query = '''\n",
    "SELECT COUNT(*)\n",
    "FROM reviews\n",
    "'''\n",
    "display(pd.io.sql.read_sql(query, con = engine))"
   ]
  },
  {
   "cell_type": "code",
   "execution_count": 7,
   "metadata": {},
   "outputs": [
    {
     "data": {
      "text/html": [
       "<div>\n",
       "<style scoped>\n",
       "    .dataframe tbody tr th:only-of-type {\n",
       "        vertical-align: middle;\n",
       "    }\n",
       "\n",
       "    .dataframe tbody tr th {\n",
       "        vertical-align: top;\n",
       "    }\n",
       "\n",
       "    .dataframe thead th {\n",
       "        text-align: right;\n",
       "    }\n",
       "</style>\n",
       "<table border=\"1\" class=\"dataframe\">\n",
       "  <thead>\n",
       "    <tr style=\"text-align: right;\">\n",
       "      <th></th>\n",
       "      <th>title</th>\n",
       "      <th>publication_date</th>\n",
       "      <th>review_count</th>\n",
       "      <th>avg_rating</th>\n",
       "    </tr>\n",
       "  </thead>\n",
       "  <tbody>\n",
       "    <tr>\n",
       "      <th>0</th>\n",
       "      <td>The Body in the Library (Miss Marple  #3)</td>\n",
       "      <td>2006-09-01</td>\n",
       "      <td>2</td>\n",
       "      <td>4.500000</td>\n",
       "    </tr>\n",
       "    <tr>\n",
       "      <th>1</th>\n",
       "      <td>Galápagos</td>\n",
       "      <td>1999-01-12</td>\n",
       "      <td>2</td>\n",
       "      <td>4.500000</td>\n",
       "    </tr>\n",
       "    <tr>\n",
       "      <th>2</th>\n",
       "      <td>A Tree Grows in Brooklyn</td>\n",
       "      <td>2006-05-30</td>\n",
       "      <td>5</td>\n",
       "      <td>4.250000</td>\n",
       "    </tr>\n",
       "    <tr>\n",
       "      <th>3</th>\n",
       "      <td>Undaunted Courage: The Pioneering First Missio...</td>\n",
       "      <td>2003-10-06</td>\n",
       "      <td>2</td>\n",
       "      <td>4.000000</td>\n",
       "    </tr>\n",
       "    <tr>\n",
       "      <th>4</th>\n",
       "      <td>The Prophet</td>\n",
       "      <td>2010-01-01</td>\n",
       "      <td>4</td>\n",
       "      <td>4.285714</td>\n",
       "    </tr>\n",
       "    <tr>\n",
       "      <th>...</th>\n",
       "      <td>...</td>\n",
       "      <td>...</td>\n",
       "      <td>...</td>\n",
       "      <td>...</td>\n",
       "    </tr>\n",
       "    <tr>\n",
       "      <th>989</th>\n",
       "      <td>Alice in Wonderland</td>\n",
       "      <td>2004-09-07</td>\n",
       "      <td>4</td>\n",
       "      <td>4.230769</td>\n",
       "    </tr>\n",
       "    <tr>\n",
       "      <th>990</th>\n",
       "      <td>A Woman of Substance (Emma Harte Saga #1)</td>\n",
       "      <td>2005-12-01</td>\n",
       "      <td>2</td>\n",
       "      <td>5.000000</td>\n",
       "    </tr>\n",
       "    <tr>\n",
       "      <th>991</th>\n",
       "      <td>Christine</td>\n",
       "      <td>2001-06-13</td>\n",
       "      <td>3</td>\n",
       "      <td>3.428571</td>\n",
       "    </tr>\n",
       "    <tr>\n",
       "      <th>992</th>\n",
       "      <td>The Magicians' Guild (Black Magician Trilogy  #1)</td>\n",
       "      <td>2004-01-31</td>\n",
       "      <td>2</td>\n",
       "      <td>3.500000</td>\n",
       "    </tr>\n",
       "    <tr>\n",
       "      <th>993</th>\n",
       "      <td>The Plot Against America</td>\n",
       "      <td>2005-09-27</td>\n",
       "      <td>2</td>\n",
       "      <td>3.000000</td>\n",
       "    </tr>\n",
       "  </tbody>\n",
       "</table>\n",
       "<p>994 rows × 4 columns</p>\n",
       "</div>"
      ],
      "text/plain": [
       "                                                 title publication_date  \\\n",
       "0            The Body in the Library (Miss Marple  #3)       2006-09-01   \n",
       "1                                            Galápagos       1999-01-12   \n",
       "2                             A Tree Grows in Brooklyn       2006-05-30   \n",
       "3    Undaunted Courage: The Pioneering First Missio...       2003-10-06   \n",
       "4                                          The Prophet       2010-01-01   \n",
       "..                                                 ...              ...   \n",
       "989                                Alice in Wonderland       2004-09-07   \n",
       "990          A Woman of Substance (Emma Harte Saga #1)       2005-12-01   \n",
       "991                                          Christine       2001-06-13   \n",
       "992  The Magicians' Guild (Black Magician Trilogy  #1)       2004-01-31   \n",
       "993                           The Plot Against America       2005-09-27   \n",
       "\n",
       "     review_count  avg_rating  \n",
       "0               2    4.500000  \n",
       "1               2    4.500000  \n",
       "2               5    4.250000  \n",
       "3               2    4.000000  \n",
       "4               4    4.285714  \n",
       "..            ...         ...  \n",
       "989             4    4.230769  \n",
       "990             2    5.000000  \n",
       "991             3    3.428571  \n",
       "992             2    3.500000  \n",
       "993             2    3.000000  \n",
       "\n",
       "[994 rows x 4 columns]"
      ]
     },
     "metadata": {},
     "output_type": "display_data"
    }
   ],
   "source": [
    "query = '''\n",
    "WITH review_counter AS\n",
    "    (SELECT book_id,\n",
    "            COUNT(*) AS review_count\n",
    "    FROM reviews\n",
    "    GROUP BY book_id),\n",
    "\n",
    "rating_meaner AS\n",
    "    (SELECT book_id,\n",
    "            AVG(rating) AS avg_rating\n",
    "    FROM ratings\n",
    "    GROUP BY book_id)\n",
    "\n",
    "SELECT b.title,\n",
    "       b.publication_date,\n",
    "       rc.review_count,\n",
    "       rm.avg_rating\n",
    "FROM books AS b\n",
    "JOIN review_counter AS rc ON b.book_id = rc.book_id\n",
    "JOIN rating_meaner AS rm ON b.book_id = rm.book_id\n",
    "'''\n",
    "output = pd.io.sql.read_sql(query, con = engine)\n",
    "display(output)"
   ]
  },
  {
   "cell_type": "code",
   "execution_count": 8,
   "metadata": {},
   "outputs": [
    {
     "data": {
      "text/plain": [
       "2793"
      ]
     },
     "execution_count": 8,
     "metadata": {},
     "output_type": "execute_result"
    }
   ],
   "source": [
    "sum(output['review_count'])"
   ]
  },
  {
   "cell_type": "markdown",
   "metadata": {},
   "source": [
    "Сделано. Просто ради интереса посмотрим на книгу с самым большим количеством отзывов и лучшим рейтингом, на случай если таких книг несколько, и наоборот: книгу с лучшим рейтином и самым больши количеством отзывов."
   ]
  },
  {
   "cell_type": "code",
   "execution_count": 9,
   "metadata": {},
   "outputs": [
    {
     "data": {
      "text/html": [
       "<div>\n",
       "<style scoped>\n",
       "    .dataframe tbody tr th:only-of-type {\n",
       "        vertical-align: middle;\n",
       "    }\n",
       "\n",
       "    .dataframe tbody tr th {\n",
       "        vertical-align: top;\n",
       "    }\n",
       "\n",
       "    .dataframe thead th {\n",
       "        text-align: right;\n",
       "    }\n",
       "</style>\n",
       "<table border=\"1\" class=\"dataframe\">\n",
       "  <thead>\n",
       "    <tr style=\"text-align: right;\">\n",
       "      <th></th>\n",
       "      <th>title</th>\n",
       "      <th>publication_date</th>\n",
       "      <th>review_count</th>\n",
       "      <th>avg_rating</th>\n",
       "    </tr>\n",
       "  </thead>\n",
       "  <tbody>\n",
       "    <tr>\n",
       "      <th>161</th>\n",
       "      <td>Twilight (Twilight  #1)</td>\n",
       "      <td>2006-09-06</td>\n",
       "      <td>7</td>\n",
       "      <td>3.6625</td>\n",
       "    </tr>\n",
       "  </tbody>\n",
       "</table>\n",
       "</div>"
      ],
      "text/plain": [
       "                       title publication_date  review_count  avg_rating\n",
       "161  Twilight (Twilight  #1)       2006-09-06             7      3.6625"
      ]
     },
     "metadata": {},
     "output_type": "display_data"
    },
    {
     "data": {
      "text/html": [
       "<div>\n",
       "<style scoped>\n",
       "    .dataframe tbody tr th:only-of-type {\n",
       "        vertical-align: middle;\n",
       "    }\n",
       "\n",
       "    .dataframe tbody tr th {\n",
       "        vertical-align: top;\n",
       "    }\n",
       "\n",
       "    .dataframe thead th {\n",
       "        text-align: right;\n",
       "    }\n",
       "</style>\n",
       "<table border=\"1\" class=\"dataframe\">\n",
       "  <thead>\n",
       "    <tr style=\"text-align: right;\">\n",
       "      <th></th>\n",
       "      <th>title</th>\n",
       "      <th>publication_date</th>\n",
       "      <th>review_count</th>\n",
       "      <th>avg_rating</th>\n",
       "    </tr>\n",
       "  </thead>\n",
       "  <tbody>\n",
       "    <tr>\n",
       "      <th>911</th>\n",
       "      <td>A Dirty Job (Grim Reaper  #1)</td>\n",
       "      <td>2006-03-21</td>\n",
       "      <td>4</td>\n",
       "      <td>5.0</td>\n",
       "    </tr>\n",
       "  </tbody>\n",
       "</table>\n",
       "</div>"
      ],
      "text/plain": [
       "                             title publication_date  review_count  avg_rating\n",
       "911  A Dirty Job (Grim Reaper  #1)       2006-03-21             4         5.0"
      ]
     },
     "metadata": {},
     "output_type": "display_data"
    }
   ],
   "source": [
    "display(output.sort_values(['review_count', 'avg_rating']).tail(1))\n",
    "display(output.sort_values(['avg_rating', 'review_count']).tail(1))"
   ]
  },
  {
   "cell_type": "markdown",
   "metadata": {},
   "source": [
    "Первая часть Сумерек собрала больше всех отзывов, но средний рейтинг у неё не очень высокий. А вот книгу A Dirty Job (Grim Reaper #1) я, пожалуй, добавлю в список чтения на лето :)"
   ]
  },
  {
   "cell_type": "markdown",
   "metadata": {},
   "source": [
    "## Третье задание\n",
    "\n",
    "Определите издательство, которое выпустило наибольшее число книг толще 50 страниц."
   ]
  },
  {
   "cell_type": "code",
   "execution_count": 10,
   "metadata": {},
   "outputs": [
    {
     "data": {
      "text/html": [
       "<div>\n",
       "<style scoped>\n",
       "    .dataframe tbody tr th:only-of-type {\n",
       "        vertical-align: middle;\n",
       "    }\n",
       "\n",
       "    .dataframe tbody tr th {\n",
       "        vertical-align: top;\n",
       "    }\n",
       "\n",
       "    .dataframe thead th {\n",
       "        text-align: right;\n",
       "    }\n",
       "</style>\n",
       "<table border=\"1\" class=\"dataframe\">\n",
       "  <thead>\n",
       "    <tr style=\"text-align: right;\">\n",
       "      <th></th>\n",
       "      <th>publisher</th>\n",
       "      <th>book_count</th>\n",
       "    </tr>\n",
       "  </thead>\n",
       "  <tbody>\n",
       "    <tr>\n",
       "      <th>0</th>\n",
       "      <td>Penguin Books</td>\n",
       "      <td>42</td>\n",
       "    </tr>\n",
       "    <tr>\n",
       "      <th>1</th>\n",
       "      <td>Vintage</td>\n",
       "      <td>31</td>\n",
       "    </tr>\n",
       "    <tr>\n",
       "      <th>2</th>\n",
       "      <td>Grand Central Publishing</td>\n",
       "      <td>25</td>\n",
       "    </tr>\n",
       "    <tr>\n",
       "      <th>3</th>\n",
       "      <td>Penguin Classics</td>\n",
       "      <td>24</td>\n",
       "    </tr>\n",
       "    <tr>\n",
       "      <th>4</th>\n",
       "      <td>Bantam</td>\n",
       "      <td>19</td>\n",
       "    </tr>\n",
       "  </tbody>\n",
       "</table>\n",
       "</div>"
      ],
      "text/plain": [
       "                  publisher  book_count\n",
       "0             Penguin Books          42\n",
       "1                   Vintage          31\n",
       "2  Grand Central Publishing          25\n",
       "3          Penguin Classics          24\n",
       "4                    Bantam          19"
      ]
     },
     "metadata": {},
     "output_type": "display_data"
    }
   ],
   "source": [
    "query = '''\n",
    "SELECT p.publisher,\n",
    "       COUNT(b.*) AS book_count\n",
    "FROM books AS b\n",
    "JOIN publishers AS p ON b.publisher_id = p.publisher_id\n",
    "WHERE b.num_pages > 50\n",
    "GROUP BY p.publisher\n",
    "ORDER BY book_count DESC\n",
    "LIMIT 5\n",
    "'''\n",
    "display(pd.io.sql.read_sql(query, con = engine))"
   ]
  },
  {
   "cell_type": "markdown",
   "metadata": {},
   "source": [
    "Хотелось здесь написать список знаковых для этого издательства Penguin Books книг, но всё оказалось намного интересней - данное издательство является знаковым для Великобритании, поскольку ещё до Второй мировой войны популяризовало книги в мягкой обложке для людей всей страны в довольно тяжёлый преиод истории."
   ]
  },
  {
   "cell_type": "markdown",
   "metadata": {},
   "source": [
    "## Четвёртое задание\n",
    "\n",
    "Определите автора с самой высокой средней оценкой книг — учитывайте только книги с 50 и более оценками."
   ]
  },
  {
   "cell_type": "code",
   "execution_count": 11,
   "metadata": {},
   "outputs": [
    {
     "data": {
      "text/html": [
       "<div>\n",
       "<style scoped>\n",
       "    .dataframe tbody tr th:only-of-type {\n",
       "        vertical-align: middle;\n",
       "    }\n",
       "\n",
       "    .dataframe tbody tr th {\n",
       "        vertical-align: top;\n",
       "    }\n",
       "\n",
       "    .dataframe thead th {\n",
       "        text-align: right;\n",
       "    }\n",
       "</style>\n",
       "<table border=\"1\" class=\"dataframe\">\n",
       "  <thead>\n",
       "    <tr style=\"text-align: right;\">\n",
       "      <th></th>\n",
       "      <th>author</th>\n",
       "      <th>avg_rating</th>\n",
       "    </tr>\n",
       "  </thead>\n",
       "  <tbody>\n",
       "    <tr>\n",
       "      <th>0</th>\n",
       "      <td>J.K. Rowling/Mary GrandPré</td>\n",
       "      <td>4.287097</td>\n",
       "    </tr>\n",
       "    <tr>\n",
       "      <th>1</th>\n",
       "      <td>Markus Zusak/Cao Xuân Việt Khương</td>\n",
       "      <td>4.264151</td>\n",
       "    </tr>\n",
       "    <tr>\n",
       "      <th>2</th>\n",
       "      <td>J.R.R. Tolkien</td>\n",
       "      <td>4.246914</td>\n",
       "    </tr>\n",
       "    <tr>\n",
       "      <th>3</th>\n",
       "      <td>Louisa May Alcott</td>\n",
       "      <td>4.192308</td>\n",
       "    </tr>\n",
       "    <tr>\n",
       "      <th>4</th>\n",
       "      <td>Rick Riordan</td>\n",
       "      <td>4.080645</td>\n",
       "    </tr>\n",
       "  </tbody>\n",
       "</table>\n",
       "</div>"
      ],
      "text/plain": [
       "                              author  avg_rating\n",
       "0         J.K. Rowling/Mary GrandPré    4.287097\n",
       "1  Markus Zusak/Cao Xuân Việt Khương    4.264151\n",
       "2                     J.R.R. Tolkien    4.246914\n",
       "3                  Louisa May Alcott    4.192308\n",
       "4                       Rick Riordan    4.080645"
      ]
     },
     "metadata": {},
     "output_type": "display_data"
    }
   ],
   "source": [
    "query = '''\n",
    "WITH top_books AS \n",
    "    (SELECT b.*,\n",
    "            COUNT(rat.*) as rating_count\n",
    "     FROM books AS b\n",
    "     JOIN ratings AS rat ON b.book_id = rat.book_id\n",
    "     GROUP BY b.book_id\n",
    "     HAVING COUNT(rat.*) >= 50)\n",
    "     \n",
    "SELECT a.author,\n",
    "       AVG(rat.rating) AS avg_rating\n",
    "FROM top_books AS b\n",
    "JOIN authors AS a ON b.author_id = a.author_id\n",
    "JOIN ratings AS rat ON b.book_id = rat.book_id\n",
    "GROUP BY a.author\n",
    "ORDER BY avg_rating DESC\n",
    "LIMIT 5\n",
    "'''\n",
    "display(pd.io.sql.read_sql(query, con = engine))"
   ]
  },
  {
   "cell_type": "markdown",
   "metadata": {},
   "source": [
    "Здесь победителем оказалась пара автора Дж. К. Роулинг и иллюстратора Мэри Грандпре, которые вместе работали над серией книг о Гарри Поттере. С учётом этого становится неудивительно, что у них такой высокий средний рейтинг."
   ]
  },
  {
   "cell_type": "markdown",
   "metadata": {},
   "source": [
    "## Пятое задание\n",
    "\n",
    "Посчитайте среднее количество обзоров от пользователей, которые поставили больше 50 оценок."
   ]
  },
  {
   "cell_type": "code",
   "execution_count": 12,
   "metadata": {},
   "outputs": [
    {
     "data": {
      "text/html": [
       "<div>\n",
       "<style scoped>\n",
       "    .dataframe tbody tr th:only-of-type {\n",
       "        vertical-align: middle;\n",
       "    }\n",
       "\n",
       "    .dataframe tbody tr th {\n",
       "        vertical-align: top;\n",
       "    }\n",
       "\n",
       "    .dataframe thead th {\n",
       "        text-align: right;\n",
       "    }\n",
       "</style>\n",
       "<table border=\"1\" class=\"dataframe\">\n",
       "  <thead>\n",
       "    <tr style=\"text-align: right;\">\n",
       "      <th></th>\n",
       "      <th>avg</th>\n",
       "    </tr>\n",
       "  </thead>\n",
       "  <tbody>\n",
       "    <tr>\n",
       "      <th>0</th>\n",
       "      <td>24.0</td>\n",
       "    </tr>\n",
       "  </tbody>\n",
       "</table>\n",
       "</div>"
      ],
      "text/plain": [
       "    avg\n",
       "0  24.0"
      ]
     },
     "metadata": {},
     "output_type": "display_data"
    }
   ],
   "source": [
    "query = '''\n",
    "WITH top_users AS \n",
    "    (SELECT username,\n",
    "            COUNT(DISTINCT rating_id) as rating_count\n",
    "    FROM ratings\n",
    "    GROUP BY username\n",
    "    HAVING COUNT(DISTINCT rating_id) >= 50),\n",
    "     \n",
    "review_counter AS\n",
    "    (SELECT u.username,\n",
    "            COUNT(DISTINCT review_id) as review_count\n",
    "     FROM top_users AS u\n",
    "     JOIN reviews AS rev ON u.username = rev.username\n",
    "     GROUP BY u.username)\n",
    "\n",
    "SELECT AVG(review_count)\n",
    "FROM review_counter\n",
    "'''\n",
    "display(round(pd.io.sql.read_sql(query, con = engine), 0))"
   ]
  },
  {
   "cell_type": "markdown",
   "metadata": {},
   "source": [
    "В среднем, пользователи поставившие больше 50 оценок, также пишут довольно много отзывов. Вполне логично, если стимулировать пользователей ставить оценки и предлагать при этом писать отзывы, то довольно много людей хоть что-то да напишут."
   ]
  }
 ],
 "metadata": {
  "ExecuteTimeLog": [
   {
    "duration": 5774,
    "start_time": "2023-01-29T09:15:47.072Z"
   },
   {
    "duration": 49,
    "start_time": "2023-01-29T09:38:42.877Z"
   },
   {
    "duration": 40,
    "start_time": "2023-01-29T09:38:53.612Z"
   },
   {
    "duration": 40,
    "start_time": "2023-01-29T09:39:08.225Z"
   },
   {
    "duration": 44,
    "start_time": "2023-01-29T09:39:45.596Z"
   },
   {
    "duration": 6041,
    "start_time": "2023-01-29T09:51:39.425Z"
   },
   {
    "duration": 261,
    "start_time": "2023-01-29T10:39:17.799Z"
   },
   {
    "duration": 44,
    "start_time": "2023-01-29T10:39:25.042Z"
   },
   {
    "duration": 168,
    "start_time": "2023-01-29T10:45:33.828Z"
   },
   {
    "duration": 139,
    "start_time": "2023-01-29T10:45:44.783Z"
   },
   {
    "duration": 172,
    "start_time": "2023-01-29T10:51:15.663Z"
   },
   {
    "duration": 13,
    "start_time": "2023-01-29T10:51:46.803Z"
   },
   {
    "duration": 12,
    "start_time": "2023-01-29T10:56:44.442Z"
   },
   {
    "duration": 378,
    "start_time": "2023-01-29T10:56:59.669Z"
   },
   {
    "duration": 384,
    "start_time": "2023-01-29T10:57:08.435Z"
   },
   {
    "duration": 48,
    "start_time": "2023-01-29T10:57:19.927Z"
   },
   {
    "duration": 373,
    "start_time": "2023-01-29T10:57:33.727Z"
   },
   {
    "duration": 366,
    "start_time": "2023-01-29T10:57:43.269Z"
   },
   {
    "duration": 339,
    "start_time": "2023-01-29T10:57:48.147Z"
   },
   {
    "duration": 366,
    "start_time": "2023-01-29T10:57:57.002Z"
   },
   {
    "duration": 373,
    "start_time": "2023-01-29T10:58:25.405Z"
   },
   {
    "duration": 97,
    "start_time": "2023-01-29T10:58:32.753Z"
   },
   {
    "duration": 395,
    "start_time": "2023-01-29T10:58:36.149Z"
   },
   {
    "duration": 976,
    "start_time": "2023-01-29T11:18:02.222Z"
   },
   {
    "duration": 151,
    "start_time": "2023-01-29T11:18:59.906Z"
   },
   {
    "duration": 71,
    "start_time": "2023-01-29T11:19:22.905Z"
   },
   {
    "duration": 100,
    "start_time": "2023-01-29T11:19:35.484Z"
   },
   {
    "duration": 80,
    "start_time": "2023-01-29T11:19:46.858Z"
   },
   {
    "duration": 123,
    "start_time": "2023-01-29T11:31:29.623Z"
   },
   {
    "duration": 130,
    "start_time": "2023-01-29T11:31:52.738Z"
   },
   {
    "duration": 127,
    "start_time": "2023-01-29T11:32:11.521Z"
   },
   {
    "duration": 1321,
    "start_time": "2023-01-29T11:32:30.636Z"
   },
   {
    "duration": 218,
    "start_time": "2023-01-29T11:32:46.256Z"
   },
   {
    "duration": 127,
    "start_time": "2023-01-29T11:32:59.846Z"
   },
   {
    "duration": 108,
    "start_time": "2023-01-29T11:33:36.704Z"
   },
   {
    "duration": 108,
    "start_time": "2023-01-29T11:34:07.539Z"
   },
   {
    "duration": 124,
    "start_time": "2023-01-29T11:34:20.937Z"
   },
   {
    "duration": 70,
    "start_time": "2023-01-29T11:34:29.741Z"
   },
   {
    "duration": 109,
    "start_time": "2023-01-29T11:35:04.476Z"
   },
   {
    "duration": 197,
    "start_time": "2023-01-29T11:37:08.457Z"
   },
   {
    "duration": 200,
    "start_time": "2023-01-29T11:38:24.390Z"
   },
   {
    "duration": 236,
    "start_time": "2023-01-29T11:38:30.863Z"
   },
   {
    "duration": 197,
    "start_time": "2023-01-29T11:41:24.693Z"
   },
   {
    "duration": 126,
    "start_time": "2023-01-29T11:47:29.191Z"
   },
   {
    "duration": 106,
    "start_time": "2023-01-29T11:47:53.262Z"
   },
   {
    "duration": 197,
    "start_time": "2023-01-29T11:48:05.889Z"
   },
   {
    "duration": 106,
    "start_time": "2023-01-29T11:48:22.480Z"
   },
   {
    "duration": 107,
    "start_time": "2023-01-29T11:48:37.088Z"
   },
   {
    "duration": 127,
    "start_time": "2023-01-29T12:01:50.468Z"
   },
   {
    "duration": 74,
    "start_time": "2023-01-29T12:02:06.193Z"
   },
   {
    "duration": 76,
    "start_time": "2023-01-29T12:03:04.344Z"
   },
   {
    "duration": 71,
    "start_time": "2023-01-29T12:03:14.682Z"
   },
   {
    "duration": 128,
    "start_time": "2023-01-29T13:08:43.835Z"
   },
   {
    "duration": 76,
    "start_time": "2023-01-29T13:09:10.241Z"
   },
   {
    "duration": 77,
    "start_time": "2023-01-29T13:10:57.959Z"
   },
   {
    "duration": 78,
    "start_time": "2023-01-29T13:11:05.973Z"
   },
   {
    "duration": 77,
    "start_time": "2023-01-29T13:19:12.189Z"
   },
   {
    "duration": 77,
    "start_time": "2023-01-29T13:24:17.293Z"
   },
   {
    "duration": 127,
    "start_time": "2023-01-29T13:25:26.123Z"
   },
   {
    "duration": 148,
    "start_time": "2023-01-29T13:25:30.984Z"
   },
   {
    "duration": 124,
    "start_time": "2023-01-29T13:25:36.442Z"
   },
   {
    "duration": 82,
    "start_time": "2023-01-29T13:26:16.591Z"
   },
   {
    "duration": 75,
    "start_time": "2023-01-29T13:29:57.858Z"
   },
   {
    "duration": 74,
    "start_time": "2023-01-29T13:30:08.039Z"
   },
   {
    "duration": 75,
    "start_time": "2023-01-29T13:30:10.347Z"
   },
   {
    "duration": 75,
    "start_time": "2023-01-29T13:30:34.382Z"
   },
   {
    "duration": 73,
    "start_time": "2023-01-29T13:30:36.178Z"
   },
   {
    "duration": 120,
    "start_time": "2023-01-29T13:32:36.558Z"
   },
   {
    "duration": 129,
    "start_time": "2023-01-29T13:32:43.425Z"
   },
   {
    "duration": 36756,
    "start_time": "2023-01-29T13:32:58.083Z"
   },
   {
    "duration": 53258,
    "start_time": "2023-01-29T13:34:13.365Z"
   },
   {
    "duration": 76,
    "start_time": "2023-01-29T13:35:45.165Z"
   },
   {
    "duration": 95,
    "start_time": "2023-01-29T13:37:43.891Z"
   },
   {
    "duration": 75,
    "start_time": "2023-01-29T13:38:57.538Z"
   },
   {
    "duration": 164,
    "start_time": "2023-01-29T13:40:47.031Z"
   },
   {
    "duration": 129,
    "start_time": "2023-01-29T13:41:00.166Z"
   },
   {
    "duration": 91,
    "start_time": "2023-01-29T13:41:14.994Z"
   },
   {
    "duration": 75,
    "start_time": "2023-01-29T13:41:44.060Z"
   },
   {
    "duration": 77,
    "start_time": "2023-01-29T13:41:49.547Z"
   },
   {
    "duration": 95,
    "start_time": "2023-01-29T13:54:03.169Z"
   },
   {
    "duration": 75,
    "start_time": "2023-01-29T13:56:42.532Z"
   },
   {
    "duration": 73,
    "start_time": "2023-01-29T13:56:51.279Z"
   },
   {
    "duration": 81,
    "start_time": "2023-01-29T14:05:08.001Z"
   },
   {
    "duration": 8189,
    "start_time": "2023-01-29T21:31:49.257Z"
   },
   {
    "duration": 95,
    "start_time": "2023-01-29T21:31:57.448Z"
   },
   {
    "duration": 13,
    "start_time": "2023-01-29T21:31:57.545Z"
   },
   {
    "duration": 42,
    "start_time": "2023-01-29T21:31:57.560Z"
   },
   {
    "duration": 57,
    "start_time": "2023-01-29T21:31:57.605Z"
   },
   {
    "duration": 13,
    "start_time": "2023-01-29T21:31:57.664Z"
   },
   {
    "duration": 30,
    "start_time": "2023-01-29T21:31:57.679Z"
   },
   {
    "duration": 18,
    "start_time": "2023-01-29T21:31:57.711Z"
   },
   {
    "duration": 157,
    "start_time": "2023-01-29T22:02:27.079Z"
   },
   {
    "duration": 125,
    "start_time": "2023-01-29T22:03:14.931Z"
   },
   {
    "duration": 99,
    "start_time": "2023-01-29T22:04:13.329Z"
   },
   {
    "duration": 5,
    "start_time": "2023-01-29T22:05:18.286Z"
   },
   {
    "duration": 84,
    "start_time": "2023-01-29T22:05:18.293Z"
   },
   {
    "duration": 9,
    "start_time": "2023-01-29T22:05:18.379Z"
   },
   {
    "duration": 33,
    "start_time": "2023-01-29T22:05:18.390Z"
   },
   {
    "duration": 92,
    "start_time": "2023-01-29T22:05:21.366Z"
   },
   {
    "duration": 90,
    "start_time": "2023-01-29T22:05:26.738Z"
   },
   {
    "duration": 22,
    "start_time": "2023-01-29T22:05:43.036Z"
   },
   {
    "duration": 96,
    "start_time": "2023-01-29T22:06:02.910Z"
   },
   {
    "duration": 10,
    "start_time": "2023-01-29T22:06:15.379Z"
   },
   {
    "duration": 10,
    "start_time": "2023-01-29T22:06:19.575Z"
   },
   {
    "duration": 92,
    "start_time": "2023-01-29T22:06:28.527Z"
   },
   {
    "duration": 11,
    "start_time": "2023-01-29T22:06:31.389Z"
   },
   {
    "duration": 22,
    "start_time": "2023-01-29T22:08:29.316Z"
   },
   {
    "duration": 21,
    "start_time": "2023-01-29T22:09:07.362Z"
   },
   {
    "duration": 21,
    "start_time": "2023-01-29T22:12:03.039Z"
   },
   {
    "duration": 14,
    "start_time": "2023-01-29T22:14:14.840Z"
   },
   {
    "duration": 12,
    "start_time": "2023-01-29T22:15:33.734Z"
   },
   {
    "duration": 87,
    "start_time": "2023-01-29T22:16:21.824Z"
   },
   {
    "duration": 19,
    "start_time": "2023-01-29T22:16:27.071Z"
   },
   {
    "duration": 128,
    "start_time": "2023-01-29T22:18:02.778Z"
   },
   {
    "duration": 92,
    "start_time": "2023-01-29T22:18:15.640Z"
   },
   {
    "duration": 17,
    "start_time": "2023-01-29T22:18:35.668Z"
   },
   {
    "duration": 23,
    "start_time": "2023-01-29T22:18:48.665Z"
   },
   {
    "duration": 4,
    "start_time": "2023-01-29T22:19:33.686Z"
   },
   {
    "duration": 16,
    "start_time": "2023-01-29T22:20:44.256Z"
   },
   {
    "duration": 8083,
    "start_time": "2023-01-29T22:22:52.274Z"
   },
   {
    "duration": 88,
    "start_time": "2023-01-29T22:23:00.360Z"
   },
   {
    "duration": 11,
    "start_time": "2023-01-29T22:23:00.450Z"
   },
   {
    "duration": 54,
    "start_time": "2023-01-29T22:23:00.463Z"
   },
   {
    "duration": 15,
    "start_time": "2023-01-29T22:23:00.519Z"
   },
   {
    "duration": 45,
    "start_time": "2023-01-29T22:23:00.536Z"
   },
   {
    "duration": 78,
    "start_time": "2023-01-29T22:23:00.583Z"
   },
   {
    "duration": 9,
    "start_time": "2023-01-29T22:23:00.662Z"
   },
   {
    "duration": 50,
    "start_time": "2023-01-29T22:23:00.672Z"
   },
   {
    "duration": 34,
    "start_time": "2023-01-29T22:23:00.724Z"
   },
   {
    "duration": 49,
    "start_time": "2023-01-29T22:23:00.760Z"
   },
   {
    "duration": 31,
    "start_time": "2023-01-29T22:23:00.811Z"
   }
  ],
  "kernelspec": {
   "display_name": "Python 3 (ipykernel)",
   "language": "python",
   "name": "python3"
  },
  "language_info": {
   "codemirror_mode": {
    "name": "ipython",
    "version": 3
   },
   "file_extension": ".py",
   "mimetype": "text/x-python",
   "name": "python",
   "nbconvert_exporter": "python",
   "pygments_lexer": "ipython3",
   "version": "3.9.5"
  },
  "toc": {
   "base_numbering": 1,
   "nav_menu": {},
   "number_sections": true,
   "sideBar": true,
   "skip_h1_title": true,
   "title_cell": "Table of Contents",
   "title_sidebar": "Contents",
   "toc_cell": false,
   "toc_position": {},
   "toc_section_display": true,
   "toc_window_display": true
  }
 },
 "nbformat": 4,
 "nbformat_minor": 2
}
