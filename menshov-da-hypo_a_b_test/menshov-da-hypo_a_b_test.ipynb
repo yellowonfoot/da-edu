{
 "cells": [
  {
   "cell_type": "markdown",
   "metadata": {},
   "source": [
    "# Принятие решений в бизнесе: приоритизация гипотез и анализ A/B теста"
   ]
  },
  {
   "cell_type": "markdown",
   "metadata": {},
   "source": [
    "<b>Описание проекта</b>\n",
    "\n",
    "Вы — аналитик крупного интернет-магазина. Вместе с отделом маркетинга вы подготовили список гипотез для увеличения выручки.\n",
    "Приоритизируйте гипотезы, запустите A/B-тест и проанализируйте результаты."
   ]
  },
  {
   "cell_type": "markdown",
   "metadata": {},
   "source": [
    "### Приоритизация гипотез"
   ]
  },
  {
   "cell_type": "markdown",
   "metadata": {},
   "source": [
    "В файле \"/datasets/hypothesis.csv\" 9 гипотез по увеличению выручки интернет-магазина с указанными параметрами Reach, Impact, Confidence, Effort.\n",
    "Задача:\n",
    "\n",
    "•\tПримените фреймворк ICE для приоритизации гипотез. Отсортируйте их по убыванию приоритета.\n",
    "\n",
    "•\tПримените фреймворк RICE для приоритизации гипотез. Отсортируйте их по убыванию приоритета.\n",
    "\n",
    "•\tУкажите, как изменилась приоритизация гипотез при применении RICE вместо ICE. Объясните, почему так произошло."
   ]
  },
  {
   "cell_type": "code",
   "execution_count": 1,
   "metadata": {},
   "outputs": [],
   "source": [
    "import pandas as pd\n",
    "import numpy as np\n",
    "import scipy.stats as stats\n",
    "from datetime import datetime, timedelta\n",
    "from matplotlib import pyplot as plt"
   ]
  },
  {
   "cell_type": "code",
   "execution_count": 2,
   "metadata": {
    "scrolled": true
   },
   "outputs": [
    {
     "data": {
      "text/html": [
       "<div>\n",
       "<style scoped>\n",
       "    .dataframe tbody tr th:only-of-type {\n",
       "        vertical-align: middle;\n",
       "    }\n",
       "\n",
       "    .dataframe tbody tr th {\n",
       "        vertical-align: top;\n",
       "    }\n",
       "\n",
       "    .dataframe thead th {\n",
       "        text-align: right;\n",
       "    }\n",
       "</style>\n",
       "<table border=\"1\" class=\"dataframe\">\n",
       "  <thead>\n",
       "    <tr style=\"text-align: right;\">\n",
       "      <th></th>\n",
       "      <th>Hypothesis</th>\n",
       "      <th>Reach</th>\n",
       "      <th>Impact</th>\n",
       "      <th>Confidence</th>\n",
       "      <th>Efforts</th>\n",
       "    </tr>\n",
       "  </thead>\n",
       "  <tbody>\n",
       "    <tr>\n",
       "      <th>0</th>\n",
       "      <td>Добавить два новых канала привлечения трафика, что позволит привлекать на 30% больше пользователей</td>\n",
       "      <td>3</td>\n",
       "      <td>10</td>\n",
       "      <td>8</td>\n",
       "      <td>6</td>\n",
       "    </tr>\n",
       "    <tr>\n",
       "      <th>1</th>\n",
       "      <td>Запустить собственную службу доставки, что сократит срок доставки заказов</td>\n",
       "      <td>2</td>\n",
       "      <td>5</td>\n",
       "      <td>4</td>\n",
       "      <td>10</td>\n",
       "    </tr>\n",
       "    <tr>\n",
       "      <th>2</th>\n",
       "      <td>Добавить блоки рекомендаций товаров на сайт интернет магазина, чтобы повысить конверсию и средний чек заказа</td>\n",
       "      <td>8</td>\n",
       "      <td>3</td>\n",
       "      <td>7</td>\n",
       "      <td>3</td>\n",
       "    </tr>\n",
       "    <tr>\n",
       "      <th>3</th>\n",
       "      <td>Изменить структура категорий, что увеличит конверсию, т.к. пользователи быстрее найдут нужный товар</td>\n",
       "      <td>8</td>\n",
       "      <td>3</td>\n",
       "      <td>3</td>\n",
       "      <td>8</td>\n",
       "    </tr>\n",
       "    <tr>\n",
       "      <th>4</th>\n",
       "      <td>Изменить цвет фона главной страницы, чтобы увеличить вовлеченность пользователей</td>\n",
       "      <td>3</td>\n",
       "      <td>1</td>\n",
       "      <td>1</td>\n",
       "      <td>1</td>\n",
       "    </tr>\n",
       "    <tr>\n",
       "      <th>5</th>\n",
       "      <td>Добавить страницу отзывов клиентов о магазине, что позволит увеличить количество заказов</td>\n",
       "      <td>3</td>\n",
       "      <td>2</td>\n",
       "      <td>2</td>\n",
       "      <td>3</td>\n",
       "    </tr>\n",
       "    <tr>\n",
       "      <th>6</th>\n",
       "      <td>Показать на главной странице баннеры с актуальными акциями и распродажами, чтобы увеличить конверсию</td>\n",
       "      <td>5</td>\n",
       "      <td>3</td>\n",
       "      <td>8</td>\n",
       "      <td>3</td>\n",
       "    </tr>\n",
       "    <tr>\n",
       "      <th>7</th>\n",
       "      <td>Добавить форму подписки на все основные страницы, чтобы собрать базу клиентов для email-рассылок</td>\n",
       "      <td>10</td>\n",
       "      <td>7</td>\n",
       "      <td>8</td>\n",
       "      <td>5</td>\n",
       "    </tr>\n",
       "    <tr>\n",
       "      <th>8</th>\n",
       "      <td>Запустить акцию, дающую скидку на товар в день рождения</td>\n",
       "      <td>1</td>\n",
       "      <td>9</td>\n",
       "      <td>9</td>\n",
       "      <td>5</td>\n",
       "    </tr>\n",
       "  </tbody>\n",
       "</table>\n",
       "</div>"
      ],
      "text/plain": [
       "                                                                                                     Hypothesis  \\\n",
       "0            Добавить два новых канала привлечения трафика, что позволит привлекать на 30% больше пользователей   \n",
       "1                                     Запустить собственную службу доставки, что сократит срок доставки заказов   \n",
       "2  Добавить блоки рекомендаций товаров на сайт интернет магазина, чтобы повысить конверсию и средний чек заказа   \n",
       "3           Изменить структура категорий, что увеличит конверсию, т.к. пользователи быстрее найдут нужный товар   \n",
       "4                              Изменить цвет фона главной страницы, чтобы увеличить вовлеченность пользователей   \n",
       "5                      Добавить страницу отзывов клиентов о магазине, что позволит увеличить количество заказов   \n",
       "6          Показать на главной странице баннеры с актуальными акциями и распродажами, чтобы увеличить конверсию   \n",
       "7              Добавить форму подписки на все основные страницы, чтобы собрать базу клиентов для email-рассылок   \n",
       "8                                                       Запустить акцию, дающую скидку на товар в день рождения   \n",
       "\n",
       "   Reach  Impact  Confidence  Efforts  \n",
       "0      3      10           8        6  \n",
       "1      2       5           4       10  \n",
       "2      8       3           7        3  \n",
       "3      8       3           3        8  \n",
       "4      3       1           1        1  \n",
       "5      3       2           2        3  \n",
       "6      5       3           8        3  \n",
       "7     10       7           8        5  \n",
       "8      1       9           9        5  "
      ]
     },
     "execution_count": 2,
     "metadata": {},
     "output_type": "execute_result"
    }
   ],
   "source": [
    "data_hypo = pd.read_csv('/datasets/hypothesis.csv')\n",
    "pd.options.display.max_colwidth = 120\n",
    "data_hypo"
   ]
  },
  {
   "cell_type": "code",
   "execution_count": 3,
   "metadata": {},
   "outputs": [
    {
     "data": {
      "text/html": [
       "<div>\n",
       "<style scoped>\n",
       "    .dataframe tbody tr th:only-of-type {\n",
       "        vertical-align: middle;\n",
       "    }\n",
       "\n",
       "    .dataframe tbody tr th {\n",
       "        vertical-align: top;\n",
       "    }\n",
       "\n",
       "    .dataframe thead th {\n",
       "        text-align: right;\n",
       "    }\n",
       "</style>\n",
       "<table border=\"1\" class=\"dataframe\">\n",
       "  <thead>\n",
       "    <tr style=\"text-align: right;\">\n",
       "      <th></th>\n",
       "      <th>Hypothesis</th>\n",
       "      <th>ICE</th>\n",
       "    </tr>\n",
       "  </thead>\n",
       "  <tbody>\n",
       "    <tr>\n",
       "      <th>8</th>\n",
       "      <td>Запустить акцию, дающую скидку на товар в день рождения</td>\n",
       "      <td>16.20</td>\n",
       "    </tr>\n",
       "    <tr>\n",
       "      <th>0</th>\n",
       "      <td>Добавить два новых канала привлечения трафика, что позволит привлекать на 30% больше пользователей</td>\n",
       "      <td>13.33</td>\n",
       "    </tr>\n",
       "    <tr>\n",
       "      <th>7</th>\n",
       "      <td>Добавить форму подписки на все основные страницы, чтобы собрать базу клиентов для email-рассылок</td>\n",
       "      <td>11.20</td>\n",
       "    </tr>\n",
       "    <tr>\n",
       "      <th>6</th>\n",
       "      <td>Показать на главной странице баннеры с актуальными акциями и распродажами, чтобы увеличить конверсию</td>\n",
       "      <td>8.00</td>\n",
       "    </tr>\n",
       "    <tr>\n",
       "      <th>2</th>\n",
       "      <td>Добавить блоки рекомендаций товаров на сайт интернет магазина, чтобы повысить конверсию и средний чек заказа</td>\n",
       "      <td>7.00</td>\n",
       "    </tr>\n",
       "    <tr>\n",
       "      <th>1</th>\n",
       "      <td>Запустить собственную службу доставки, что сократит срок доставки заказов</td>\n",
       "      <td>2.00</td>\n",
       "    </tr>\n",
       "    <tr>\n",
       "      <th>5</th>\n",
       "      <td>Добавить страницу отзывов клиентов о магазине, что позволит увеличить количество заказов</td>\n",
       "      <td>1.33</td>\n",
       "    </tr>\n",
       "    <tr>\n",
       "      <th>3</th>\n",
       "      <td>Изменить структура категорий, что увеличит конверсию, т.к. пользователи быстрее найдут нужный товар</td>\n",
       "      <td>1.12</td>\n",
       "    </tr>\n",
       "    <tr>\n",
       "      <th>4</th>\n",
       "      <td>Изменить цвет фона главной страницы, чтобы увеличить вовлеченность пользователей</td>\n",
       "      <td>1.00</td>\n",
       "    </tr>\n",
       "  </tbody>\n",
       "</table>\n",
       "</div>"
      ],
      "text/plain": [
       "                                                                                                     Hypothesis  \\\n",
       "8                                                       Запустить акцию, дающую скидку на товар в день рождения   \n",
       "0            Добавить два новых канала привлечения трафика, что позволит привлекать на 30% больше пользователей   \n",
       "7              Добавить форму подписки на все основные страницы, чтобы собрать базу клиентов для email-рассылок   \n",
       "6          Показать на главной странице баннеры с актуальными акциями и распродажами, чтобы увеличить конверсию   \n",
       "2  Добавить блоки рекомендаций товаров на сайт интернет магазина, чтобы повысить конверсию и средний чек заказа   \n",
       "1                                     Запустить собственную службу доставки, что сократит срок доставки заказов   \n",
       "5                      Добавить страницу отзывов клиентов о магазине, что позволит увеличить количество заказов   \n",
       "3           Изменить структура категорий, что увеличит конверсию, т.к. пользователи быстрее найдут нужный товар   \n",
       "4                              Изменить цвет фона главной страницы, чтобы увеличить вовлеченность пользователей   \n",
       "\n",
       "     ICE  \n",
       "8  16.20  \n",
       "0  13.33  \n",
       "7  11.20  \n",
       "6   8.00  \n",
       "2   7.00  \n",
       "1   2.00  \n",
       "5   1.33  \n",
       "3   1.12  \n",
       "4   1.00  "
      ]
     },
     "execution_count": 3,
     "metadata": {},
     "output_type": "execute_result"
    }
   ],
   "source": [
    "data_hypo['ICE'] = round(data_hypo['Impact'] * data_hypo['Confidence'] / data_hypo['Efforts'], 2)\n",
    "data_hypo[['Hypothesis', 'ICE']].sort_values(by='ICE', ascending=False)"
   ]
  },
  {
   "cell_type": "markdown",
   "metadata": {},
   "source": [
    "По фреймворку ICE можно выделить 3 лидирующие гипотезы. С большим отрывом на первом месте по приоритету стоит \"Запустить акцию, дающую скидку на товар в день рождения\", у нее высокие параметры Impact и Confidence и не очень высокий Efforts. На втором месте гипотеза \"Добавить два новых канала привлечения трафика, что позволит привлекать на 30% больше пользователей\" с похожими параметрами Impact и Confidence, но немного больший Efforts отодвигает ее в приоритете. Гипотеза \"Добавить форму подписки на все основные страницы, чтобы собрать базу клиентов для email-рассылок\" на третьем месте. Четвертое и пятое место находятся немного ближе к лидерам, но все остальные гипотезы очень сильно от них отстают в приоритете либо из-за высоких Efforts, либо из-за низких Impact и Confidence."
   ]
  },
  {
   "cell_type": "code",
   "execution_count": 4,
   "metadata": {},
   "outputs": [
    {
     "data": {
      "text/html": [
       "<div>\n",
       "<style scoped>\n",
       "    .dataframe tbody tr th:only-of-type {\n",
       "        vertical-align: middle;\n",
       "    }\n",
       "\n",
       "    .dataframe tbody tr th {\n",
       "        vertical-align: top;\n",
       "    }\n",
       "\n",
       "    .dataframe thead th {\n",
       "        text-align: right;\n",
       "    }\n",
       "</style>\n",
       "<table border=\"1\" class=\"dataframe\">\n",
       "  <thead>\n",
       "    <tr style=\"text-align: right;\">\n",
       "      <th></th>\n",
       "      <th>Hypothesis</th>\n",
       "      <th>RICE</th>\n",
       "    </tr>\n",
       "  </thead>\n",
       "  <tbody>\n",
       "    <tr>\n",
       "      <th>7</th>\n",
       "      <td>Добавить форму подписки на все основные страницы, чтобы собрать базу клиентов для email-рассылок</td>\n",
       "      <td>112.0</td>\n",
       "    </tr>\n",
       "    <tr>\n",
       "      <th>2</th>\n",
       "      <td>Добавить блоки рекомендаций товаров на сайт интернет магазина, чтобы повысить конверсию и средний чек заказа</td>\n",
       "      <td>56.0</td>\n",
       "    </tr>\n",
       "    <tr>\n",
       "      <th>0</th>\n",
       "      <td>Добавить два новых канала привлечения трафика, что позволит привлекать на 30% больше пользователей</td>\n",
       "      <td>40.0</td>\n",
       "    </tr>\n",
       "    <tr>\n",
       "      <th>6</th>\n",
       "      <td>Показать на главной странице баннеры с актуальными акциями и распродажами, чтобы увеличить конверсию</td>\n",
       "      <td>40.0</td>\n",
       "    </tr>\n",
       "    <tr>\n",
       "      <th>8</th>\n",
       "      <td>Запустить акцию, дающую скидку на товар в день рождения</td>\n",
       "      <td>16.2</td>\n",
       "    </tr>\n",
       "    <tr>\n",
       "      <th>3</th>\n",
       "      <td>Изменить структура категорий, что увеличит конверсию, т.к. пользователи быстрее найдут нужный товар</td>\n",
       "      <td>9.0</td>\n",
       "    </tr>\n",
       "    <tr>\n",
       "      <th>1</th>\n",
       "      <td>Запустить собственную службу доставки, что сократит срок доставки заказов</td>\n",
       "      <td>4.0</td>\n",
       "    </tr>\n",
       "    <tr>\n",
       "      <th>5</th>\n",
       "      <td>Добавить страницу отзывов клиентов о магазине, что позволит увеличить количество заказов</td>\n",
       "      <td>4.0</td>\n",
       "    </tr>\n",
       "    <tr>\n",
       "      <th>4</th>\n",
       "      <td>Изменить цвет фона главной страницы, чтобы увеличить вовлеченность пользователей</td>\n",
       "      <td>3.0</td>\n",
       "    </tr>\n",
       "  </tbody>\n",
       "</table>\n",
       "</div>"
      ],
      "text/plain": [
       "                                                                                                     Hypothesis  \\\n",
       "7              Добавить форму подписки на все основные страницы, чтобы собрать базу клиентов для email-рассылок   \n",
       "2  Добавить блоки рекомендаций товаров на сайт интернет магазина, чтобы повысить конверсию и средний чек заказа   \n",
       "0            Добавить два новых канала привлечения трафика, что позволит привлекать на 30% больше пользователей   \n",
       "6          Показать на главной странице баннеры с актуальными акциями и распродажами, чтобы увеличить конверсию   \n",
       "8                                                       Запустить акцию, дающую скидку на товар в день рождения   \n",
       "3           Изменить структура категорий, что увеличит конверсию, т.к. пользователи быстрее найдут нужный товар   \n",
       "1                                     Запустить собственную службу доставки, что сократит срок доставки заказов   \n",
       "5                      Добавить страницу отзывов клиентов о магазине, что позволит увеличить количество заказов   \n",
       "4                              Изменить цвет фона главной страницы, чтобы увеличить вовлеченность пользователей   \n",
       "\n",
       "    RICE  \n",
       "7  112.0  \n",
       "2   56.0  \n",
       "0   40.0  \n",
       "6   40.0  \n",
       "8   16.2  \n",
       "3    9.0  \n",
       "1    4.0  \n",
       "5    4.0  \n",
       "4    3.0  "
      ]
     },
     "execution_count": 4,
     "metadata": {},
     "output_type": "execute_result"
    }
   ],
   "source": [
    "data_hypo['RICE'] = round(data_hypo['Reach'] * data_hypo['Impact'] * data_hypo['Confidence'] / data_hypo['Efforts'], 2)\n",
    "data_hypo[['Hypothesis', 'RICE']].sort_values(by='RICE', ascending=False)"
   ]
  },
  {
   "cell_type": "markdown",
   "metadata": {},
   "source": [
    "Добавление параметра Reach неплохо меняет картину. Гипотеза \"Добавить форму подписки на все основные страницы, чтобы собрать базу клиентов для email-рассылок\" сразу вышла на первое место с большим отрывом - только у неё максимальный охват пользователей. Высокий охват также повысил в приоритете гипотезу \"Добавить блоки рекомендаций товаров на сайт интернет магазина, чтобы повысить конверсию и средний чек заказа\": с пятого места сразу на второе. Не сильно ей проигрывают гипотезы \"Добавить блоки рекомендаций товаров на сайт интернет магазина, чтобы повысить конверсию и средний чек заказа\" и \"Показать на главной странице баннеры с актуальными акциями и распродажами, чтобы увеличить конверсию\". А вот лидер по фреймворку ICE теперь совсем не в приоритете: гипотеза \"Запустить акцию, дающую скидку на товар в день рождения\" имеет минимальный охват, поэтому в числовом выражении ее рейтинг не поменялся. Последние четыре места так и остаются далеко позади. Даже для гипотезы \"Изменить структура категорий, что увеличит конверсию, т.к. пользователи быстрее найдут нужный товар\", имеющей довольно высокий Reach, ситуация кардинально не поменялась."
   ]
  },
  {
   "cell_type": "markdown",
   "metadata": {},
   "source": [
    "### Анализ A/B-теста"
   ]
  },
  {
   "cell_type": "markdown",
   "metadata": {},
   "source": [
    "Вы провели A/B-тест и получили результаты, которые описаны в файлах \"/datasets/orders.csv\" и \"/datasets/visitors.csv\".\n",
    "\n",
    "Задача:\n",
    "\n",
    "Проанализируйте A/B-тест"
   ]
  },
  {
   "cell_type": "markdown",
   "metadata": {},
   "source": [
    "#### Загрузка и предобработка"
   ]
  },
  {
   "cell_type": "code",
   "execution_count": 5,
   "metadata": {},
   "outputs": [
    {
     "data": {
      "text/plain": [
       "'Таблица visitors ===================================================================================================='"
      ]
     },
     "metadata": {},
     "output_type": "display_data"
    },
    {
     "data": {
      "text/html": [
       "<div>\n",
       "<style scoped>\n",
       "    .dataframe tbody tr th:only-of-type {\n",
       "        vertical-align: middle;\n",
       "    }\n",
       "\n",
       "    .dataframe tbody tr th {\n",
       "        vertical-align: top;\n",
       "    }\n",
       "\n",
       "    .dataframe thead th {\n",
       "        text-align: right;\n",
       "    }\n",
       "</style>\n",
       "<table border=\"1\" class=\"dataframe\">\n",
       "  <thead>\n",
       "    <tr style=\"text-align: right;\">\n",
       "      <th></th>\n",
       "      <th>date</th>\n",
       "      <th>group</th>\n",
       "      <th>visitors</th>\n",
       "    </tr>\n",
       "  </thead>\n",
       "  <tbody>\n",
       "    <tr>\n",
       "      <th>0</th>\n",
       "      <td>2019-08-01</td>\n",
       "      <td>A</td>\n",
       "      <td>719</td>\n",
       "    </tr>\n",
       "    <tr>\n",
       "      <th>1</th>\n",
       "      <td>2019-08-02</td>\n",
       "      <td>A</td>\n",
       "      <td>619</td>\n",
       "    </tr>\n",
       "    <tr>\n",
       "      <th>2</th>\n",
       "      <td>2019-08-03</td>\n",
       "      <td>A</td>\n",
       "      <td>507</td>\n",
       "    </tr>\n",
       "    <tr>\n",
       "      <th>3</th>\n",
       "      <td>2019-08-04</td>\n",
       "      <td>A</td>\n",
       "      <td>717</td>\n",
       "    </tr>\n",
       "    <tr>\n",
       "      <th>4</th>\n",
       "      <td>2019-08-05</td>\n",
       "      <td>A</td>\n",
       "      <td>756</td>\n",
       "    </tr>\n",
       "  </tbody>\n",
       "</table>\n",
       "</div>"
      ],
      "text/plain": [
       "         date group  visitors\n",
       "0  2019-08-01     A       719\n",
       "1  2019-08-02     A       619\n",
       "2  2019-08-03     A       507\n",
       "3  2019-08-04     A       717\n",
       "4  2019-08-05     A       756"
      ]
     },
     "metadata": {},
     "output_type": "display_data"
    },
    {
     "name": "stdout",
     "output_type": "stream",
     "text": [
      "<class 'pandas.core.frame.DataFrame'>\n",
      "RangeIndex: 62 entries, 0 to 61\n",
      "Data columns (total 3 columns):\n",
      " #   Column    Non-Null Count  Dtype \n",
      "---  ------    --------------  ----- \n",
      " 0   date      62 non-null     object\n",
      " 1   group     62 non-null     object\n",
      " 2   visitors  62 non-null     int64 \n",
      "dtypes: int64(1), object(2)\n",
      "memory usage: 1.6+ KB\n"
     ]
    },
    {
     "data": {
      "text/plain": [
       "None"
      ]
     },
     "metadata": {},
     "output_type": "display_data"
    },
    {
     "data": {
      "text/plain": [
       "'Дубликаты в visitors'"
      ]
     },
     "metadata": {},
     "output_type": "display_data"
    },
    {
     "data": {
      "text/plain": [
       "0"
      ]
     },
     "metadata": {},
     "output_type": "display_data"
    },
    {
     "data": {
      "text/plain": [
       "'Таблица orders ======================================================================================================'"
      ]
     },
     "metadata": {},
     "output_type": "display_data"
    },
    {
     "data": {
      "text/html": [
       "<div>\n",
       "<style scoped>\n",
       "    .dataframe tbody tr th:only-of-type {\n",
       "        vertical-align: middle;\n",
       "    }\n",
       "\n",
       "    .dataframe tbody tr th {\n",
       "        vertical-align: top;\n",
       "    }\n",
       "\n",
       "    .dataframe thead th {\n",
       "        text-align: right;\n",
       "    }\n",
       "</style>\n",
       "<table border=\"1\" class=\"dataframe\">\n",
       "  <thead>\n",
       "    <tr style=\"text-align: right;\">\n",
       "      <th></th>\n",
       "      <th>transactionId</th>\n",
       "      <th>visitorId</th>\n",
       "      <th>date</th>\n",
       "      <th>revenue</th>\n",
       "      <th>group</th>\n",
       "    </tr>\n",
       "  </thead>\n",
       "  <tbody>\n",
       "    <tr>\n",
       "      <th>0</th>\n",
       "      <td>3667963787</td>\n",
       "      <td>3312258926</td>\n",
       "      <td>2019-08-15</td>\n",
       "      <td>1650</td>\n",
       "      <td>B</td>\n",
       "    </tr>\n",
       "    <tr>\n",
       "      <th>1</th>\n",
       "      <td>2804400009</td>\n",
       "      <td>3642806036</td>\n",
       "      <td>2019-08-15</td>\n",
       "      <td>730</td>\n",
       "      <td>B</td>\n",
       "    </tr>\n",
       "    <tr>\n",
       "      <th>2</th>\n",
       "      <td>2961555356</td>\n",
       "      <td>4069496402</td>\n",
       "      <td>2019-08-15</td>\n",
       "      <td>400</td>\n",
       "      <td>A</td>\n",
       "    </tr>\n",
       "    <tr>\n",
       "      <th>3</th>\n",
       "      <td>3797467345</td>\n",
       "      <td>1196621759</td>\n",
       "      <td>2019-08-15</td>\n",
       "      <td>9759</td>\n",
       "      <td>B</td>\n",
       "    </tr>\n",
       "    <tr>\n",
       "      <th>4</th>\n",
       "      <td>2282983706</td>\n",
       "      <td>2322279887</td>\n",
       "      <td>2019-08-15</td>\n",
       "      <td>2308</td>\n",
       "      <td>B</td>\n",
       "    </tr>\n",
       "  </tbody>\n",
       "</table>\n",
       "</div>"
      ],
      "text/plain": [
       "   transactionId   visitorId        date  revenue group\n",
       "0     3667963787  3312258926  2019-08-15     1650     B\n",
       "1     2804400009  3642806036  2019-08-15      730     B\n",
       "2     2961555356  4069496402  2019-08-15      400     A\n",
       "3     3797467345  1196621759  2019-08-15     9759     B\n",
       "4     2282983706  2322279887  2019-08-15     2308     B"
      ]
     },
     "metadata": {},
     "output_type": "display_data"
    },
    {
     "name": "stdout",
     "output_type": "stream",
     "text": [
      "<class 'pandas.core.frame.DataFrame'>\n",
      "RangeIndex: 1197 entries, 0 to 1196\n",
      "Data columns (total 5 columns):\n",
      " #   Column         Non-Null Count  Dtype \n",
      "---  ------         --------------  ----- \n",
      " 0   transactionId  1197 non-null   int64 \n",
      " 1   visitorId      1197 non-null   int64 \n",
      " 2   date           1197 non-null   object\n",
      " 3   revenue        1197 non-null   int64 \n",
      " 4   group          1197 non-null   object\n",
      "dtypes: int64(3), object(2)\n",
      "memory usage: 46.9+ KB\n"
     ]
    },
    {
     "data": {
      "text/plain": [
       "None"
      ]
     },
     "metadata": {},
     "output_type": "display_data"
    },
    {
     "data": {
      "text/plain": [
       "'Дубликаты в orders'"
      ]
     },
     "metadata": {},
     "output_type": "display_data"
    },
    {
     "data": {
      "text/plain": [
       "0"
      ]
     },
     "metadata": {},
     "output_type": "display_data"
    }
   ],
   "source": [
    "orders = pd.read_csv('/datasets/orders.csv')\n",
    "visitors = pd.read_csv('/datasets/visitors.csv')\n",
    "\n",
    "display('Таблица visitors ====================================================================================================')\n",
    "display(visitors.head())\n",
    "display(visitors.info())\n",
    "display('Дубликаты в visitors', visitors.duplicated().sum())\n",
    "\n",
    "display('Таблица orders ======================================================================================================')\n",
    "display(orders.head())\n",
    "display(orders.info())\n",
    "display('Дубликаты в orders', orders.duplicated().sum())"
   ]
  },
  {
   "cell_type": "markdown",
   "metadata": {},
   "source": [
    "Дубликатов и незаполненных ячеек в таблицах нет. В столбцах с датой изменим тип данных."
   ]
  },
  {
   "cell_type": "code",
   "execution_count": 6,
   "metadata": {},
   "outputs": [
    {
     "name": "stdout",
     "output_type": "stream",
     "text": [
      "<class 'pandas.core.frame.DataFrame'>\n",
      "RangeIndex: 62 entries, 0 to 61\n",
      "Data columns (total 3 columns):\n",
      " #   Column    Non-Null Count  Dtype         \n",
      "---  ------    --------------  -----         \n",
      " 0   date      62 non-null     datetime64[ns]\n",
      " 1   group     62 non-null     object        \n",
      " 2   visitors  62 non-null     int64         \n",
      "dtypes: datetime64[ns](1), int64(1), object(1)\n",
      "memory usage: 1.6+ KB\n"
     ]
    },
    {
     "data": {
      "text/plain": [
       "None"
      ]
     },
     "metadata": {},
     "output_type": "display_data"
    },
    {
     "name": "stdout",
     "output_type": "stream",
     "text": [
      "<class 'pandas.core.frame.DataFrame'>\n",
      "RangeIndex: 1197 entries, 0 to 1196\n",
      "Data columns (total 5 columns):\n",
      " #   Column         Non-Null Count  Dtype         \n",
      "---  ------         --------------  -----         \n",
      " 0   transactionId  1197 non-null   int64         \n",
      " 1   visitorId      1197 non-null   int64         \n",
      " 2   date           1197 non-null   datetime64[ns]\n",
      " 3   revenue        1197 non-null   int64         \n",
      " 4   group          1197 non-null   object        \n",
      "dtypes: datetime64[ns](1), int64(3), object(1)\n",
      "memory usage: 46.9+ KB\n"
     ]
    },
    {
     "data": {
      "text/plain": [
       "None"
      ]
     },
     "metadata": {},
     "output_type": "display_data"
    }
   ],
   "source": [
    "visitors['date'] = pd.to_datetime(visitors['date'])\n",
    "orders['date'] = pd.to_datetime(orders['date'])\n",
    "display(visitors.info())\n",
    "display(orders.info())"
   ]
  },
  {
   "cell_type": "markdown",
   "metadata": {},
   "source": [
    "Проверим распределение пользователей по группам."
   ]
  },
  {
   "cell_type": "code",
   "execution_count": 7,
   "metadata": {},
   "outputs": [
    {
     "name": "stdout",
     "output_type": "stream",
     "text": [
      "Всего пользователей, сделавших заказ 1031\n",
      "Всего пользователей, сделавших заказ, группа A 503\n",
      "Всего пользователей, сделавших заказ, группа B 586\n",
      "Всего пользователей, группа A + группа B 1089\n"
     ]
    }
   ],
   "source": [
    "print('Всего пользователей, сделавших заказ', orders['visitorId'].nunique())\n",
    "print('Всего пользователей, сделавших заказ, группа A', orders.query('group == \"A\"')['visitorId'].nunique())\n",
    "print('Всего пользователей, сделавших заказ, группа B', orders.query('group == \"B\"')['visitorId'].nunique())\n",
    "print('Всего пользователей, группа A + группа B', orders.query('group == \"A\"')['visitorId'].nunique() + orders.query('group == \"B\"')['visitorId'].nunique())"
   ]
  },
  {
   "cell_type": "markdown",
   "metadata": {},
   "source": [
    "Сумма уникальных пользователей по группам больше, чем по общей выборке. 58 пользователей есть в обеих группах. Исходя из логики A/B теста, по-хорошему их надо исключить, но мы не можем их исключить из таблицы visitors, так как там нет их ID. Частично они будут исключены как аномальные пользователи с большим количеством заказов - если они попали в обе группы, у них есть минимум два заказа. Исходя из этго, предлагаю их оставить."
   ]
  },
  {
   "cell_type": "markdown",
   "metadata": {},
   "source": [
    "Саггрегируем данные и подготовим к анализу."
   ]
  },
  {
   "cell_type": "code",
   "execution_count": 8,
   "metadata": {},
   "outputs": [
    {
     "data": {
      "text/html": [
       "<div>\n",
       "<style scoped>\n",
       "    .dataframe tbody tr th:only-of-type {\n",
       "        vertical-align: middle;\n",
       "    }\n",
       "\n",
       "    .dataframe tbody tr th {\n",
       "        vertical-align: top;\n",
       "    }\n",
       "\n",
       "    .dataframe thead th {\n",
       "        text-align: right;\n",
       "    }\n",
       "</style>\n",
       "<table border=\"1\" class=\"dataframe\">\n",
       "  <thead>\n",
       "    <tr style=\"text-align: right;\">\n",
       "      <th></th>\n",
       "      <th>date</th>\n",
       "      <th>orders_per_date_a</th>\n",
       "      <th>revenue_per_date_a</th>\n",
       "      <th>orders_per_date_b</th>\n",
       "      <th>revenue_per_date_b</th>\n",
       "      <th>orders_cummulative_a</th>\n",
       "      <th>revenue_cummulative_a</th>\n",
       "      <th>orders_cummulative_b</th>\n",
       "      <th>revenue_cummulative_b</th>\n",
       "      <th>visitors_per_date_a</th>\n",
       "      <th>visitors_per_date_b</th>\n",
       "      <th>visitors_cummulative_a</th>\n",
       "      <th>visitors_cummulative_b</th>\n",
       "    </tr>\n",
       "  </thead>\n",
       "  <tbody>\n",
       "    <tr>\n",
       "      <th>0</th>\n",
       "      <td>2019-08-01</td>\n",
       "      <td>24</td>\n",
       "      <td>148579</td>\n",
       "      <td>21</td>\n",
       "      <td>101217</td>\n",
       "      <td>24</td>\n",
       "      <td>148579</td>\n",
       "      <td>21</td>\n",
       "      <td>101217</td>\n",
       "      <td>719</td>\n",
       "      <td>713</td>\n",
       "      <td>719</td>\n",
       "      <td>713</td>\n",
       "    </tr>\n",
       "    <tr>\n",
       "      <th>1</th>\n",
       "      <td>2019-08-02</td>\n",
       "      <td>20</td>\n",
       "      <td>93822</td>\n",
       "      <td>24</td>\n",
       "      <td>165531</td>\n",
       "      <td>44</td>\n",
       "      <td>242401</td>\n",
       "      <td>45</td>\n",
       "      <td>266748</td>\n",
       "      <td>619</td>\n",
       "      <td>581</td>\n",
       "      <td>1338</td>\n",
       "      <td>1294</td>\n",
       "    </tr>\n",
       "    <tr>\n",
       "      <th>2</th>\n",
       "      <td>2019-08-03</td>\n",
       "      <td>24</td>\n",
       "      <td>112473</td>\n",
       "      <td>16</td>\n",
       "      <td>114248</td>\n",
       "      <td>68</td>\n",
       "      <td>354874</td>\n",
       "      <td>61</td>\n",
       "      <td>380996</td>\n",
       "      <td>507</td>\n",
       "      <td>509</td>\n",
       "      <td>1845</td>\n",
       "      <td>1803</td>\n",
       "    </tr>\n",
       "    <tr>\n",
       "      <th>3</th>\n",
       "      <td>2019-08-04</td>\n",
       "      <td>16</td>\n",
       "      <td>70825</td>\n",
       "      <td>17</td>\n",
       "      <td>108571</td>\n",
       "      <td>84</td>\n",
       "      <td>425699</td>\n",
       "      <td>78</td>\n",
       "      <td>489567</td>\n",
       "      <td>717</td>\n",
       "      <td>770</td>\n",
       "      <td>2562</td>\n",
       "      <td>2573</td>\n",
       "    </tr>\n",
       "    <tr>\n",
       "      <th>4</th>\n",
       "      <td>2019-08-05</td>\n",
       "      <td>25</td>\n",
       "      <td>124218</td>\n",
       "      <td>23</td>\n",
       "      <td>92428</td>\n",
       "      <td>109</td>\n",
       "      <td>549917</td>\n",
       "      <td>101</td>\n",
       "      <td>581995</td>\n",
       "      <td>756</td>\n",
       "      <td>707</td>\n",
       "      <td>3318</td>\n",
       "      <td>3280</td>\n",
       "    </tr>\n",
       "  </tbody>\n",
       "</table>\n",
       "</div>"
      ],
      "text/plain": [
       "        date  orders_per_date_a  revenue_per_date_a  orders_per_date_b  \\\n",
       "0 2019-08-01                 24              148579                 21   \n",
       "1 2019-08-02                 20               93822                 24   \n",
       "2 2019-08-03                 24              112473                 16   \n",
       "3 2019-08-04                 16               70825                 17   \n",
       "4 2019-08-05                 25              124218                 23   \n",
       "\n",
       "   revenue_per_date_b  orders_cummulative_a  revenue_cummulative_a  \\\n",
       "0              101217                    24                 148579   \n",
       "1              165531                    44                 242401   \n",
       "2              114248                    68                 354874   \n",
       "3              108571                    84                 425699   \n",
       "4               92428                   109                 549917   \n",
       "\n",
       "   orders_cummulative_b  revenue_cummulative_b  visitors_per_date_a  \\\n",
       "0                    21                 101217                  719   \n",
       "1                    45                 266748                  619   \n",
       "2                    61                 380996                  507   \n",
       "3                    78                 489567                  717   \n",
       "4                   101                 581995                  756   \n",
       "\n",
       "   visitors_per_date_b  visitors_cummulative_a  visitors_cummulative_b  \n",
       "0                  713                     719                     713  \n",
       "1                  581                    1338                    1294  \n",
       "2                  509                    1845                    1803  \n",
       "3                  770                    2562                    2573  \n",
       "4                  707                    3318                    3280  "
      ]
     },
     "execution_count": 8,
     "metadata": {},
     "output_type": "execute_result"
    }
   ],
   "source": [
    "visitors_a_daily = visitors[visitors['group'] == 'A'][['date', 'visitors']]\n",
    "visitors_a_daily.columns = ['date', 'visitors_per_date_a']\n",
    "\n",
    "visitors_a_cummulative = visitors_a_daily.apply(\n",
    "    lambda x: visitors_a_daily[visitors_a_daily['date'] <= x['date']].agg(\n",
    "        {'date': 'max', 'visitors_per_date_a': 'sum'}\n",
    "    ),\n",
    "    axis=1,\n",
    ")\n",
    "visitors_a_cummulative.columns = ['date', 'visitors_cummulative_a']\n",
    "\n",
    "visitors_b_daily = visitors[visitors['group'] == 'B'][['date', 'visitors']]\n",
    "visitors_b_daily.columns = ['date', 'visitors_per_date_b']\n",
    "\n",
    "visitors_b_cummulative = visitors_b_daily.apply(\n",
    "    lambda x: visitors_b_daily[visitors_b_daily['date'] <= x['date']].agg(\n",
    "        {'date': 'max', 'visitors_per_date_b': 'sum'}\n",
    "    ),\n",
    "    axis=1,\n",
    ")\n",
    "visitors_b_cummulative.columns = ['date', 'visitors_cummulative_b']\n",
    "\n",
    "orders_a_daily = (\n",
    "    orders[orders['group'] == 'A'][['date', 'transactionId', 'revenue']]\n",
    "    .groupby('date', as_index=False)\n",
    "    .agg({'transactionId': pd.Series.nunique, 'revenue': 'sum'})\n",
    ")\n",
    "orders_a_daily.columns = ['date', 'orders_per_date_a', 'revenue_per_date_a']\n",
    "\n",
    "orders_a_cummulative = orders_a_daily.apply(\n",
    "    lambda x: orders_a_daily[orders_a_daily['date'] <= x['date']].agg(\n",
    "        {'date': 'max', 'orders_per_date_a': 'sum', 'revenue_per_date_a': 'sum'}\n",
    "    ),\n",
    "    axis=1,\n",
    ").sort_values(by=['date'])\n",
    "orders_a_cummulative.columns = [\n",
    "    'date',\n",
    "    'orders_cummulative_a',\n",
    "    'revenue_cummulative_a',\n",
    "]\n",
    "\n",
    "orders_b_daily = (\n",
    "    orders[orders['group'] == 'B'][['date', 'transactionId', 'revenue']]\n",
    "    .groupby('date', as_index=False)\n",
    "    .agg({'transactionId': pd.Series.nunique, 'revenue': 'sum'})\n",
    ")\n",
    "orders_b_daily.columns = ['date', 'orders_per_date_b', 'revenue_per_date_b']\n",
    "\n",
    "orders_b_cummulative = orders_b_daily.apply(\n",
    "    lambda x: orders_b_daily[orders_b_daily['date'] <= x['date']].agg(\n",
    "        {'date': 'max', 'orders_per_date_b': 'sum', 'revenue_per_date_b': 'sum'}\n",
    "    ),\n",
    "    axis=1,\n",
    ").sort_values(by=['date'])\n",
    "orders_b_cummulative.columns = [\n",
    "    'date',\n",
    "    'orders_cummulative_b',\n",
    "    'revenue_cummulative_b',\n",
    "]\n",
    "\n",
    "all_in_one = (\n",
    "    orders_a_daily.merge(orders_b_daily, left_on='date', right_on='date', how='left')\n",
    "    .merge(orders_a_cummulative, left_on='date', right_on='date', how='left')\n",
    "    .merge(orders_b_cummulative, left_on='date', right_on='date', how='left')\n",
    "    .merge(visitors_a_daily, left_on='date', right_on='date', how='left')\n",
    "    .merge(visitors_b_daily, left_on='date', right_on='date', how='left')\n",
    "    .merge(visitors_a_cummulative, left_on='date', right_on='date', how='left')\n",
    "    .merge(visitors_b_cummulative, left_on='date', right_on='date', how='left')\n",
    ")\n",
    "\n",
    "all_in_one.head()"
   ]
  },
  {
   "cell_type": "markdown",
   "metadata": {},
   "source": [
    "#### Постройте график кумулятивной выручки по группам. Сделайте выводы и предположения."
   ]
  },
  {
   "cell_type": "code",
   "execution_count": 9,
   "metadata": {},
   "outputs": [
    {
     "data": {
      "image/png": "[encoded data removed]",
      "text/plain": [
       "<Figure size 1296x360 with 1 Axes>"
      ]
     },
     "metadata": {
      "needs_background": "light"
     },
     "output_type": "display_data"
    }
   ],
   "source": [
    "plt.figure(figsize=(18,5))\n",
    "plt.plot(all_in_one['date'], all_in_one['revenue_cummulative_a'], label='A')\n",
    "plt.plot(all_in_one['date'], all_in_one['revenue_cummulative_b'], label='B')\n",
    "plt.title('Кумулятивная выручка по группам')\n",
    "plt.xlabel(\"Дата\")\n",
    "plt.ylabel(\"Выручка, млн.\")\n",
    "plt.grid()\n",
    "plt.legend()\n",
    "plt.show()"
   ]
  },
  {
   "cell_type": "markdown",
   "metadata": {},
   "source": [
    "В первые две недели теста выручка по группам повышается довольно линейно. Группа B показывает немного лучшие показатели, но без сильного отрыва. 18-19 августа в группе B виден сильный всплеск выручки, после чего продолжается линейный подъем. Возможно, в этих числах в группе B произошли несколько крупных покупок, которые так повлияли на выручку. Итоговое значение выручки по группе B почти в полтора раза выше, чем по группе A."
   ]
  },
  {
   "cell_type": "markdown",
   "metadata": {},
   "source": [
    "#### Постройте график кумулятивного среднего чека по группам. Сделайте выводы и предположения."
   ]
  },
  {
   "cell_type": "code",
   "execution_count": 10,
   "metadata": {},
   "outputs": [
    {
     "data": {
      "image/png": "[encoded data removed]",
      "text/plain": [
       "<Figure size 1296x360 with 1 Axes>"
      ]
     },
     "metadata": {
      "needs_background": "light"
     },
     "output_type": "display_data"
    }
   ],
   "source": [
    "plt.figure(figsize=(18,5))\n",
    "plt.plot(all_in_one['date'], all_in_one['revenue_cummulative_a']/all_in_one['orders_cummulative_a'], label='A')\n",
    "plt.plot(all_in_one['date'], all_in_one['revenue_cummulative_b']/all_in_one['orders_cummulative_b'], label='B')\n",
    "plt.title('Кумулятивный средний чек по группам')\n",
    "plt.xlabel(\"Дата\")\n",
    "plt.ylabel(\"Средний чек\")\n",
    "plt.grid()\n",
    "plt.legend()\n",
    "plt.show()"
   ]
  },
  {
   "cell_type": "markdown",
   "metadata": {},
   "source": [
    "До 18 августа видно колебания среднего чека по обоим группам. Группа A начинает с более высокой позиции, потом средний чек снижается, чтобы снова увеличиться и к 18 числу уже стабилизироваться. Похожие колебания и по группе B - график начинается низко, потом увеличивается, снова немного снижается, но 18-19 августа видно резкий рост. Предыдущее предположение подтверждается - одна или несколько крупных покупок увеличивает средний чек по группе в полтора раза. После этого значение среднего чека стабильно снижается. Итоговое значение среднего чека по группе B выше на четверть."
   ]
  },
  {
   "cell_type": "markdown",
   "metadata": {},
   "source": [
    "#### Постройте график относительного изменения кумулятивного среднего чека группы B к группе A. Сделайте выводы и предположения."
   ]
  },
  {
   "cell_type": "code",
   "execution_count": 11,
   "metadata": {},
   "outputs": [
    {
     "data": {
      "image/png": "[encoded data removed]",
      "text/plain": [
       "<Figure size 1296x360 with 1 Axes>"
      ]
     },
     "metadata": {
      "needs_background": "light"
     },
     "output_type": "display_data"
    }
   ],
   "source": [
    "plt.figure(figsize=(18,5))\n",
    "plt.plot(all_in_one['date'], (all_in_one['revenue_cummulative_b']/all_in_one['orders_cummulative_b'])/(all_in_one['revenue_cummulative_a']/all_in_one['orders_cummulative_a'])-1)\n",
    "plt.title('Относительное изменение кумулятивного среднего чека группы B к группе A')\n",
    "plt.xlabel(\"Дата\")\n",
    "plt.axhline(y=0, color='black', linestyle='--')\n",
    "plt.grid()\n",
    "plt.show()"
   ]
  },
  {
   "cell_type": "markdown",
   "metadata": {},
   "source": [
    "По графику видно, что значения среднего чека по группам к 18 августа заметно стабилизируются друг относительно друга, но выброс в группе сильно меняет картину."
   ]
  },
  {
   "cell_type": "markdown",
   "metadata": {},
   "source": [
    "#### Постройте график кумулятивного среднего количества заказов по группам. Сделайте выводы и предположения."
   ]
  },
  {
   "cell_type": "code",
   "execution_count": 12,
   "metadata": {},
   "outputs": [
    {
     "data": {
      "image/png": "[encoded data removed]",
      "text/plain": [
       "<Figure size 1296x360 with 1 Axes>"
      ]
     },
     "metadata": {
      "needs_background": "light"
     },
     "output_type": "display_data"
    }
   ],
   "source": [
    "plt.figure(figsize=(18,5))\n",
    "plt.plot(all_in_one['date'], all_in_one['orders_cummulative_a']/all_in_one['visitors_cummulative_a'], label='A')\n",
    "plt.plot(all_in_one['date'], all_in_one['orders_cummulative_b']/all_in_one['visitors_cummulative_b'], label='B')\n",
    "plt.title('Кумулятивное среднее количество заказов по группам')\n",
    "plt.xlabel(\"Дата\")\n",
    "plt.ylabel(\"Среднее количество заказов на пользователя\")\n",
    "plt.grid()\n",
    "plt.legend()\n",
    "plt.show()"
   ]
  },
  {
   "cell_type": "markdown",
   "metadata": {},
   "source": [
    "В первую неделю в обеих группах среднее количество заказов на пользователя сильно колеблется, но уже к 9 августа заметен тренд - среднее количество заказов в группе B стабильно выше, чем в группе A. К концу теста оба графика хорошо стабилизированы, серьезных выбросов я не вижу."
   ]
  },
  {
   "cell_type": "markdown",
   "metadata": {},
   "source": [
    "#### Постройте график относительного изменения кумулятивного среднего количества заказов группы B к группе A. Сделайте выводы и предположения."
   ]
  },
  {
   "cell_type": "code",
   "execution_count": 13,
   "metadata": {},
   "outputs": [
    {
     "data": {
      "image/png": "[encoded data removed]",
      "text/plain": [
       "<Figure size 1296x360 with 1 Axes>"
      ]
     },
     "metadata": {
      "needs_background": "light"
     },
     "output_type": "display_data"
    }
   ],
   "source": [
    "plt.figure(figsize=(18,5))\n",
    "plt.plot(all_in_one['date'], (all_in_one['orders_cummulative_b']/all_in_one['visitors_cummulative_b'])/(all_in_one['orders_cummulative_a']/all_in_one['visitors_cummulative_a'])-1)\n",
    "plt.title('Относительное изменение кумулятивного среднего количества заказов группы B к группе A')\n",
    "plt.xlabel(\"Дата\")\n",
    "plt.axhline(y=0, color='black', linestyle='--')\n",
    "plt.grid()\n",
    "plt.show()"
   ]
  },
  {
   "cell_type": "markdown",
   "metadata": {},
   "source": [
    "По графику относительного изменения среднего количества заказов на одного пользователя можно подтвердить, что после первой недели теста группа B стабильно превышает группу A по этому показателю. Итоговое значение среднего количества заказов у группы B выше почти на 15 процентов, чем у группы A."
   ]
  },
  {
   "cell_type": "markdown",
   "metadata": {},
   "source": [
    "#### Постройте точечный график количества заказов по пользователям. Сделайте выводы и предположения."
   ]
  },
  {
   "cell_type": "code",
   "execution_count": 14,
   "metadata": {},
   "outputs": [
    {
     "data": {
      "image/png": "[encoded data removed]",
      "text/plain": [
       "<Figure size 1296x360 with 1 Axes>"
      ]
     },
     "metadata": {
      "needs_background": "light"
     },
     "output_type": "display_data"
    }
   ],
   "source": [
    "orders_by_users = orders.groupby('visitorId', as_index=False).agg({'transactionId': 'nunique'})\n",
    "orders_by_users.columns = ['userId', 'orders']\n",
    "x_values = pd.Series(range(0,len(orders_by_users)))\n",
    "plt.figure(figsize=(18,5))\n",
    "plt.title('Распределение количества заказов по пользователям')\n",
    "plt.xlabel(\"Порядковый номер пользователя\")\n",
    "plt.ylabel(\"Количество заказов\")\n",
    "plt.scatter(x_values, orders_by_users['orders'])\n",
    "plt.grid()\n",
    "plt.show()"
   ]
  },
  {
   "cell_type": "markdown",
   "metadata": {},
   "source": [
    "Основная масса пользователей совершает 1 заказ. Те, кто сделал два заказа - уже редкость, но есть пользователи, совершившие даже 11 заказов. Если они попали в одну тестовую группу, это может быть причиной такой разницы в среднем количестве заказов между группами."
   ]
  },
  {
   "cell_type": "markdown",
   "metadata": {},
   "source": [
    "#### Посчитайте 95-й и 99-й перцентили количества заказов на пользователя. Выберите границу для определения аномальных пользователей."
   ]
  },
  {
   "cell_type": "code",
   "execution_count": 15,
   "metadata": {},
   "outputs": [
    {
     "name": "stdout",
     "output_type": "stream",
     "text": [
      "[2. 2. 2. 3. 4.]\n"
     ]
    }
   ],
   "source": [
    "print(np.percentile(orders_by_users['orders'], [95, 96, 97, 98, 99]))"
   ]
  },
  {
   "cell_type": "markdown",
   "metadata": {},
   "source": [
    "В целом подтверждается, что большинство пользователей не сделали более 2 заказов. 99 процентов пользователей сделали не более 4 заказов. Думаю, адекватно будет установить границу для отсечения аномальных пользователей на 2 заказах, также это позволит также отсечь больше пользователей, участвующих в двух группах."
   ]
  },
  {
   "cell_type": "code",
   "execution_count": 16,
   "metadata": {},
   "outputs": [],
   "source": [
    "order_cutoff = np.percentile(orders_by_users[\"orders\"], 97)"
   ]
  },
  {
   "cell_type": "markdown",
   "metadata": {},
   "source": [
    "#### Постройте точечный график стоимостей заказов. Сделайте выводы и предположения."
   ]
  },
  {
   "cell_type": "code",
   "execution_count": 17,
   "metadata": {},
   "outputs": [
    {
     "data": {
      "image/png": "[encoded data removed]",
      "text/plain": [
       "<Figure size 1296x720 with 1 Axes>"
      ]
     },
     "metadata": {
      "needs_background": "light"
     },
     "output_type": "display_data"
    }
   ],
   "source": [
    "x_values = pd.Series(range(0,len(orders['revenue'])))\n",
    "plt.figure(figsize=(18,10))\n",
    "plt.title('Распределение стоимостей заказов')\n",
    "plt.xlabel(\"Порядковый номер заказа\")\n",
    "plt.ylabel(\"Стоимость заказа\")\n",
    "plt.scatter(x_values, orders['revenue'])\n",
    "plt.grid()\n",
    "plt.show()"
   ]
  },
  {
   "cell_type": "markdown",
   "metadata": {},
   "source": [
    "Отчетливо видно, что большинство заказов явно дешевле 100 тысяч, но лучше разлядеть их структуру не получается. Явно видны выбросы в районе 200 тысяч и более 1,2 миллиона. Давайте их отсечем и посмотрим на нижнюю группу."
   ]
  },
  {
   "cell_type": "code",
   "execution_count": 18,
   "metadata": {},
   "outputs": [
    {
     "data": {
      "image/png": "[encoded data removed]",
      "text/plain": [
       "<Figure size 1296x720 with 1 Axes>"
      ]
     },
     "metadata": {
      "needs_background": "light"
     },
     "output_type": "display_data"
    }
   ],
   "source": [
    "x_values = pd.Series(range(0,len(orders.query('revenue < 200000')['revenue'])))\n",
    "plt.figure(figsize=(18,10))\n",
    "plt.title('Распределение стоимостей заказов без учета самых дорогих')\n",
    "plt.xlabel(\"Порядковый номер заказа\")\n",
    "plt.ylabel(\"Стоимость заказа\")\n",
    "plt.scatter(x_values, orders.query('revenue < 200000')['revenue'])\n",
    "plt.grid()\n",
    "plt.show()"
   ]
  },
  {
   "cell_type": "markdown",
   "metadata": {},
   "source": [
    "Видно, что большинство заказов дешевле 20 тысяч. От 20 до 40 тысяч заказов меньше, но их всё равно заметное количество. Больше 40 тысяч - уже редкость."
   ]
  },
  {
   "cell_type": "markdown",
   "metadata": {},
   "source": [
    "#### Посчитайте 95-й и 99-й перцентили стоимости заказов. Выберите границу для определения аномальных заказов."
   ]
  },
  {
   "cell_type": "code",
   "execution_count": 19,
   "metadata": {},
   "outputs": [
    {
     "name": "stdout",
     "output_type": "stream",
     "text": [
      "[28000.  31382.  35485.  44133.2 58233.2]\n"
     ]
    }
   ],
   "source": [
    "print(np.percentile(orders['revenue'], [95, 96, 97, 98, 99]))"
   ]
  },
  {
   "cell_type": "markdown",
   "metadata": {},
   "source": [
    "95 процентов пользователей сделали заказы не более, чем на 28 тысяч. 99 процентов - не дороже 58 тысяч. Думаю, адекватно установить границу для определения аномальных пользователей по стоимости заказа на значении 98 перцентиля."
   ]
  },
  {
   "cell_type": "code",
   "execution_count": 20,
   "metadata": {},
   "outputs": [],
   "source": [
    "revenue_cutoff = np.percentile(orders[\"revenue\"], 98)"
   ]
  },
  {
   "cell_type": "markdown",
   "metadata": {},
   "source": [
    "#### Посчитайте статистическую значимость различий в среднем количестве заказов между группами по «сырым» данным. Сделайте выводы и предположения."
   ]
  },
  {
   "cell_type": "markdown",
   "metadata": {},
   "source": [
    "Примем нулевую гипотезу - среднее количество заказов на одного пользователя между группами не различается. Альтернативная: различия в среднем количестве заказов между группами есть.\n",
    "    \n",
    "Здесь и далее: уровень alpha принимаю за 0.05, проверка проводится критерием Манна-Уитни."
   ]
  },
  {
   "cell_type": "code",
   "execution_count": 21,
   "metadata": {},
   "outputs": [
    {
     "data": {
      "text/plain": [
       "'P-value: 0.017'"
      ]
     },
     "metadata": {},
     "output_type": "display_data"
    },
    {
     "data": {
      "text/plain": [
       "'Прирост среднего количества заказов по группе B относительно группы A: 13.81%'"
      ]
     },
     "metadata": {},
     "output_type": "display_data"
    }
   ],
   "source": [
    "orders_by_users_a = orders.query('group == \"A\"').groupby('visitorId', as_index=False).agg({'transactionId': 'nunique'})\n",
    "orders_by_users_a.columns = ['userId', 'orders']\n",
    "\n",
    "orders_by_users_b = orders.query('group == \"B\"').groupby('visitorId', as_index=False).agg({'transactionId': 'nunique'})\n",
    "orders_by_users_b.columns = ['userId', 'orders']\n",
    "\n",
    "sample_a = pd.concat([orders_by_users_a['orders'],pd.Series(0, index=np.arange(all_in_one['visitors_per_date_a'].sum() - len(orders_by_users_a['orders'])), name='orders')],axis=0)\n",
    "sample_b = pd.concat([orders_by_users_b['orders'],pd.Series(0, index=np.arange(all_in_one['visitors_per_date_b'].sum() - len(orders_by_users_b['orders'])), name='orders')],axis=0)\n",
    "\n",
    "display(\"P-value: {0:.3f}\".format(stats.mannwhitneyu(sample_a, sample_b)[1]))\n",
    "display(\"Прирост среднего количества заказов по группе B относительно группы A: {0:.2%}\".format(sample_b.mean() / sample_a.mean() - 1))"
   ]
  },
  {
   "cell_type": "markdown",
   "metadata": {},
   "source": [
    "Получившееся p-value меньше 0.05, отвергаем нулевую гипотезу. Итоговое значение среднего количества заказов по группе B выше на 13.81 процентов, что подтверждает вывод по графику."
   ]
  },
  {
   "cell_type": "markdown",
   "metadata": {},
   "source": [
    "#### Посчитайте статистическую значимость различий в среднем чеке заказа между группами по «сырым» данным. Сделайте выводы и предположения."
   ]
  },
  {
   "cell_type": "markdown",
   "metadata": {},
   "source": [
    "Примем нулевую гипотезу - средний чек заказа между группами не различается. Альтернативная: различия в среднем чеке заказа между группами есть."
   ]
  },
  {
   "cell_type": "code",
   "execution_count": 22,
   "metadata": {},
   "outputs": [
    {
     "data": {
      "text/plain": [
       "'P-value: 0.729'"
      ]
     },
     "metadata": {},
     "output_type": "display_data"
    },
    {
     "data": {
      "text/plain": [
       "'Превышение среднего чека заказа по группе B относительно группы A: 25.87%'"
      ]
     },
     "metadata": {},
     "output_type": "display_data"
    }
   ],
   "source": [
    "display('P-value: {0:.3f}'.format(stats.mannwhitneyu(orders.query('group == \"A\"')['revenue'], orders.query('group == \"B\"')['revenue'])[1]))\n",
    "display('Превышение среднего чека заказа по группе B относительно группы A: {0:.2%}'.format(orders.query('group == \"B\"')['revenue'].mean()/orders.query('group == \"A\"')['revenue'].mean()-1))"
   ]
  },
  {
   "cell_type": "markdown",
   "metadata": {},
   "source": [
    "Нулевая гипотеза - средний чек по заказам между группами не различается. Получившееся p-value больше 0.05, отвергнуть нулевую гипотезу не получилось. Итоговое значение среднего чека по группе B выше на 25.87 процентов, что расходится с выводом по p-value. Стоит проверить эти данные после очистки от заказов аномальных пользователей, скорее всего превышение не является значимым и получено случайно."
   ]
  },
  {
   "cell_type": "markdown",
   "metadata": {},
   "source": [
    "#### Посчитайте статистическую значимость различий в среднем количестве заказов между группами по «очищенным» данным. Сделайте выводы и предположения."
   ]
  },
  {
   "cell_type": "markdown",
   "metadata": {},
   "source": [
    "Нулевая гипотеза та же - среднее количество заказов на одного пользователя между группами не различается. Альтернативная: различия в среднем количестве заказов между группами есть.\n",
    "    \n",
    "Делаю проверку на очищенных данных. Были исключены аномальные пользователи, сделавшие более 2 заказов и заказы на сумму более 44133.2."
   ]
  },
  {
   "cell_type": "code",
   "execution_count": 23,
   "metadata": {
    "scrolled": false
   },
   "outputs": [
    {
     "data": {
      "text/plain": [
       "'P-value: 0.007'"
      ]
     },
     "metadata": {},
     "output_type": "display_data"
    },
    {
     "data": {
      "text/plain": [
       "'Прирост среднего количества заказов по группе B относительно группы A: 18.64%'"
      ]
     },
     "metadata": {},
     "output_type": "display_data"
    }
   ],
   "source": [
    "users_with_many_orders = orders_by_users.query('orders > @order_cutoff')['userId']\n",
    "\n",
    "users_with_expensive_orders = orders.query('revenue > @revenue_cutoff')['visitorId']\n",
    "\n",
    "abnormal_users = pd.concat([users_with_many_orders, users_with_expensive_orders], axis=0).drop_duplicates().sort_values()\n",
    "\n",
    "sample_a_filtered = pd.concat(\n",
    "    [\n",
    "        orders_by_users_a[\n",
    "            np.logical_not(orders_by_users_a['userId'].isin(abnormal_users))\n",
    "        ]['orders'],\n",
    "        pd.Series(\n",
    "            0,\n",
    "            index=np.arange(\n",
    "                all_in_one['visitors_per_date_a'].sum() - len(orders_by_users_a['orders'])\n",
    "            ),\n",
    "            name='orders',\n",
    "        ),\n",
    "    ],\n",
    "    axis=0,\n",
    ")\n",
    "\n",
    "sample_b_filtered = pd.concat(\n",
    "    [\n",
    "        orders_by_users_b[\n",
    "            np.logical_not(orders_by_users_b['userId'].isin(abnormal_users))\n",
    "        ]['orders'],\n",
    "        pd.Series(\n",
    "            0,\n",
    "            index=np.arange(\n",
    "                all_in_one['visitors_per_date_b'].sum() - len(orders_by_users_b['orders'])\n",
    "            ),\n",
    "            name='orders',\n",
    "        ),\n",
    "    ],\n",
    "    axis=0,\n",
    ")\n",
    "\n",
    "display('P-value: {0:.3f}'.format(stats.mannwhitneyu(sample_a_filtered, sample_b_filtered)[1]))\n",
    "display('Прирост среднего количества заказов по группе B относительно группы A: {0:.2%}'.format(sample_b_filtered.mean()/sample_a_filtered.mean()-1))"
   ]
  },
  {
   "cell_type": "markdown",
   "metadata": {},
   "source": [
    "После очистки от данных аномальных пользователей p-value снизился до 0.007, гипотезу о равенстве среднего количества заказов на пользователя между группами отвергаем более уверенно. Итоговое значение среднего количества заказов по группе B даже увеличилось до 18.64 процента, судя по всему аномальные пользователи были в обеих группах."
   ]
  },
  {
   "cell_type": "markdown",
   "metadata": {},
   "source": [
    "#### Посчитайте статистическую значимость различий в среднем чеке заказа между группами по «очищенным» данным. Сделайте выводы и предположения."
   ]
  },
  {
   "cell_type": "markdown",
   "metadata": {},
   "source": [
    "Принимаем нулевую гипотезу - средний чек заказа между группами не различается. Альтернативная: различия в среднем чеке заказа между группами есть.\n",
    "    \n",
    "Проверка на очищенных данных."
   ]
  },
  {
   "cell_type": "code",
   "execution_count": 24,
   "metadata": {},
   "outputs": [
    {
     "data": {
      "text/plain": [
       "'P-value: 0.980'"
      ]
     },
     "metadata": {},
     "output_type": "display_data"
    },
    {
     "data": {
      "text/plain": [
       "'Превышение среднего чека заказа по группе B относительно группы A: 3.57%'"
      ]
     },
     "metadata": {},
     "output_type": "display_data"
    }
   ],
   "source": [
    "display(\n",
    "    'P-value: {0:.3f}'.format(\n",
    "        stats.mannwhitneyu(\n",
    "            orders[\n",
    "                np.logical_and(\n",
    "                    orders['group'] == 'A',\n",
    "                    np.logical_not(orders['visitorId'].isin(abnormal_users)),\n",
    "                )\n",
    "            ]['revenue'],\n",
    "            orders[\n",
    "                np.logical_and(\n",
    "                    orders['group'] == 'B',\n",
    "                    np.logical_not(orders['visitorId'].isin(abnormal_users)),\n",
    "                )\n",
    "            ]['revenue'],\n",
    "        )[1]\n",
    "    )\n",
    ")\n",
    "\n",
    "display(\n",
    "    \"Превышение среднего чека заказа по группе B относительно группы A: {0:.2%}\".format(\n",
    "        orders[\n",
    "            np.logical_and(\n",
    "                orders['group'] == 'B',\n",
    "                np.logical_not(orders['visitorId'].isin(abnormal_users)),\n",
    "            )\n",
    "        ]['revenue'].mean()\n",
    "        / orders[\n",
    "            np.logical_and(\n",
    "                orders['group'] == 'A',\n",
    "                np.logical_not(orders['visitorId'].isin(abnormal_users)),\n",
    "            )\n",
    "        ]['revenue'].mean()\n",
    "        - 1\n",
    "    )\n",
    ") "
   ]
  },
  {
   "cell_type": "markdown",
   "metadata": {},
   "source": [
    "После очистки данных от заказов аномальных пользователей p-value увеличился, отвергнуть нулевую гипотезу также не получается. Итоговое значение среднего чека по группе B всё также выше, но отрыв от группы A теперь всего 3.57 процентов."
   ]
  },
  {
   "cell_type": "markdown",
   "metadata": {},
   "source": [
    "### Примите решение по результатам теста и объясните его."
   ]
  },
  {
   "cell_type": "markdown",
   "metadata": {},
   "source": [
    "Оба основных показателя по группам - средний чек по заказу и среднее количество заказов на пользователя достаточно стабильны, чтобы сделать вывод.\n",
    "\n",
    "Можно утвержать, что средний чек между группами не различается. При этом, количество заказов на одного пользователя у группы B выше, различие подтверждено значением p-value.\n",
    "\n",
    "Считаю, что стоит остановить тест и зафиксировать победу группы B."
   ]
  }
 ],
 "metadata": {
  "ExecuteTimeLog": [
   {
    "duration": 824,
    "start_time": "2022-10-28T15:57:20.500Z"
   },
   {
    "duration": 75,
    "start_time": "2022-10-28T15:58:04.246Z"
   },
   {
    "duration": 14,
    "start_time": "2022-10-28T16:01:16.485Z"
   },
   {
    "duration": 15,
    "start_time": "2022-10-28T16:01:42.996Z"
   },
   {
    "duration": 16,
    "start_time": "2022-10-28T16:03:21.480Z"
   },
   {
    "duration": 33,
    "start_time": "2022-10-28T16:05:30.971Z"
   },
   {
    "duration": 3,
    "start_time": "2022-10-28T16:05:46.007Z"
   },
   {
    "duration": 37,
    "start_time": "2022-10-28T16:05:46.012Z"
   },
   {
    "duration": 10,
    "start_time": "2022-10-28T16:05:46.051Z"
   },
   {
    "duration": 15,
    "start_time": "2022-10-28T16:05:46.063Z"
   },
   {
    "duration": 151,
    "start_time": "2022-10-28T16:08:50.782Z"
   },
   {
    "duration": 273,
    "start_time": "2022-10-28T16:11:02.710Z"
   },
   {
    "duration": 80,
    "start_time": "2022-10-28T16:11:18.137Z"
   },
   {
    "duration": 73,
    "start_time": "2022-10-28T16:12:15.654Z"
   },
   {
    "duration": 89,
    "start_time": "2022-10-28T16:12:32.263Z"
   },
   {
    "duration": 93,
    "start_time": "2022-10-28T16:12:58.004Z"
   },
   {
    "duration": 30,
    "start_time": "2022-10-28T16:15:02.076Z"
   },
   {
    "duration": 8,
    "start_time": "2022-10-28T16:17:08.138Z"
   },
   {
    "duration": 611,
    "start_time": "2022-10-28T16:17:29.156Z"
   },
   {
    "duration": 1589,
    "start_time": "2022-10-28T16:18:41.592Z"
   },
   {
    "duration": 95,
    "start_time": "2022-10-28T16:23:12.093Z"
   },
   {
    "duration": 10,
    "start_time": "2022-10-28T16:23:20.616Z"
   },
   {
    "duration": 10,
    "start_time": "2022-10-28T16:24:07.571Z"
   },
   {
    "duration": 9,
    "start_time": "2022-10-28T16:24:20.802Z"
   },
   {
    "duration": 7,
    "start_time": "2022-10-28T16:27:35.373Z"
   },
   {
    "duration": 26,
    "start_time": "2022-10-28T16:27:38.947Z"
   },
   {
    "duration": 9,
    "start_time": "2022-10-28T16:28:08.383Z"
   },
   {
    "duration": 12,
    "start_time": "2022-10-28T16:28:12.491Z"
   },
   {
    "duration": 11,
    "start_time": "2022-10-28T16:28:39.212Z"
   },
   {
    "duration": 31,
    "start_time": "2022-10-28T16:34:57.438Z"
   },
   {
    "duration": 46,
    "start_time": "2022-10-28T16:35:33.921Z"
   },
   {
    "duration": 5,
    "start_time": "2022-10-28T16:35:39.274Z"
   },
   {
    "duration": 41,
    "start_time": "2022-10-28T16:40:57.241Z"
   },
   {
    "duration": 36,
    "start_time": "2022-10-28T16:41:04.339Z"
   },
   {
    "duration": 15,
    "start_time": "2022-10-28T16:41:16.054Z"
   },
   {
    "duration": 12,
    "start_time": "2022-10-28T16:41:23.600Z"
   },
   {
    "duration": 779,
    "start_time": "2022-10-29T09:18:54.751Z"
   },
   {
    "duration": 85,
    "start_time": "2022-10-29T09:18:55.533Z"
   },
   {
    "duration": 12,
    "start_time": "2022-10-29T09:18:55.620Z"
   },
   {
    "duration": 30,
    "start_time": "2022-10-29T09:18:55.633Z"
   },
   {
    "duration": 187,
    "start_time": "2022-10-29T09:18:55.665Z"
   },
   {
    "duration": 20,
    "start_time": "2022-10-29T09:18:55.853Z"
   },
   {
    "duration": 3,
    "start_time": "2022-10-29T09:38:12.449Z"
   },
   {
    "duration": 120,
    "start_time": "2022-10-29T09:38:12.454Z"
   },
   {
    "duration": 12,
    "start_time": "2022-10-29T09:38:12.576Z"
   },
   {
    "duration": 20,
    "start_time": "2022-10-29T09:38:12.590Z"
   },
   {
    "duration": 103,
    "start_time": "2022-10-29T09:38:12.613Z"
   },
   {
    "duration": 26,
    "start_time": "2022-10-29T09:38:12.718Z"
   },
   {
    "duration": 282,
    "start_time": "2022-10-29T09:38:14.837Z"
   },
   {
    "duration": 744,
    "start_time": "2022-10-30T09:32:41.502Z"
   },
   {
    "duration": 82,
    "start_time": "2022-10-30T09:32:42.248Z"
   },
   {
    "duration": 11,
    "start_time": "2022-10-30T09:32:42.331Z"
   },
   {
    "duration": 11,
    "start_time": "2022-10-30T09:32:42.344Z"
   },
   {
    "duration": 163,
    "start_time": "2022-10-30T09:32:42.356Z"
   },
   {
    "duration": 26,
    "start_time": "2022-10-30T09:32:42.521Z"
   },
   {
    "duration": 223,
    "start_time": "2022-10-30T09:32:42.549Z"
   },
   {
    "duration": 202,
    "start_time": "2022-10-30T09:33:19.073Z"
   },
   {
    "duration": 211,
    "start_time": "2022-10-30T09:33:37.162Z"
   },
   {
    "duration": 220,
    "start_time": "2022-10-30T09:33:51.895Z"
   },
   {
    "duration": 196,
    "start_time": "2022-10-30T09:34:38.405Z"
   },
   {
    "duration": 818,
    "start_time": "2022-10-31T12:16:45.467Z"
   },
   {
    "duration": 130,
    "start_time": "2022-10-31T12:16:46.288Z"
   },
   {
    "duration": 15,
    "start_time": "2022-10-31T12:16:46.420Z"
   },
   {
    "duration": 23,
    "start_time": "2022-10-31T12:16:46.437Z"
   },
   {
    "duration": 223,
    "start_time": "2022-10-31T12:16:46.462Z"
   },
   {
    "duration": 23,
    "start_time": "2022-10-31T12:16:46.687Z"
   },
   {
    "duration": 265,
    "start_time": "2022-10-31T12:16:46.712Z"
   },
   {
    "duration": 145,
    "start_time": "2022-10-31T12:18:53.559Z"
   },
   {
    "duration": 122,
    "start_time": "2022-10-31T12:19:11.396Z"
   },
   {
    "duration": 154,
    "start_time": "2022-10-31T12:20:52.791Z"
   },
   {
    "duration": 330,
    "start_time": "2022-10-31T12:25:04.423Z"
   },
   {
    "duration": 173,
    "start_time": "2022-10-31T12:25:16.688Z"
   },
   {
    "duration": 236,
    "start_time": "2022-10-31T12:25:48.095Z"
   },
   {
    "duration": 193,
    "start_time": "2022-10-31T12:27:46.183Z"
   },
   {
    "duration": 287,
    "start_time": "2022-10-31T12:29:25.629Z"
   },
   {
    "duration": 212,
    "start_time": "2022-10-31T12:29:45.035Z"
   },
   {
    "duration": 223,
    "start_time": "2022-10-31T12:29:56.965Z"
   },
   {
    "duration": 213,
    "start_time": "2022-10-31T12:30:22.912Z"
   },
   {
    "duration": 201,
    "start_time": "2022-10-31T12:32:46.056Z"
   },
   {
    "duration": 418,
    "start_time": "2022-10-31T12:37:07.117Z"
   },
   {
    "duration": 172,
    "start_time": "2022-10-31T12:37:39.959Z"
   },
   {
    "duration": 226,
    "start_time": "2022-10-31T12:37:56.235Z"
   },
   {
    "duration": 153,
    "start_time": "2022-10-31T12:38:08.254Z"
   },
   {
    "duration": 162,
    "start_time": "2022-10-31T12:38:48.147Z"
   },
   {
    "duration": 3,
    "start_time": "2022-10-31T12:38:57.252Z"
   },
   {
    "duration": 46,
    "start_time": "2022-10-31T12:38:57.257Z"
   },
   {
    "duration": 14,
    "start_time": "2022-10-31T12:38:57.305Z"
   },
   {
    "duration": 26,
    "start_time": "2022-10-31T12:38:57.322Z"
   },
   {
    "duration": 101,
    "start_time": "2022-10-31T12:38:57.351Z"
   },
   {
    "duration": 24,
    "start_time": "2022-10-31T12:38:57.453Z"
   },
   {
    "duration": 271,
    "start_time": "2022-10-31T12:38:57.478Z"
   },
   {
    "duration": 214,
    "start_time": "2022-10-31T12:38:57.750Z"
   },
   {
    "duration": 211,
    "start_time": "2022-10-31T12:38:57.965Z"
   },
   {
    "duration": 166,
    "start_time": "2022-10-31T12:39:07.942Z"
   },
   {
    "duration": 197,
    "start_time": "2022-10-31T12:39:19.131Z"
   },
   {
    "duration": 287,
    "start_time": "2022-10-31T12:39:40.766Z"
   },
   {
    "duration": 349,
    "start_time": "2022-10-31T12:40:10.028Z"
   },
   {
    "duration": 219,
    "start_time": "2022-10-31T12:46:33.494Z"
   },
   {
    "duration": 312,
    "start_time": "2022-10-31T12:46:40.120Z"
   },
   {
    "duration": 337,
    "start_time": "2022-10-31T12:48:17.923Z"
   },
   {
    "duration": 11,
    "start_time": "2022-10-31T12:57:45.668Z"
   },
   {
    "duration": 121,
    "start_time": "2022-10-31T12:58:15.330Z"
   },
   {
    "duration": 137,
    "start_time": "2022-10-31T12:58:37.899Z"
   },
   {
    "duration": 5,
    "start_time": "2022-10-31T13:04:13.587Z"
   },
   {
    "duration": 4,
    "start_time": "2022-10-31T13:04:24.165Z"
   },
   {
    "duration": 168,
    "start_time": "2022-10-31T13:06:17.453Z"
   },
   {
    "duration": 144,
    "start_time": "2022-10-31T13:06:52.637Z"
   },
   {
    "duration": 164,
    "start_time": "2022-10-31T13:08:38.728Z"
   },
   {
    "duration": 190,
    "start_time": "2022-10-31T13:09:22.214Z"
   },
   {
    "duration": 184,
    "start_time": "2022-10-31T13:10:05.425Z"
   },
   {
    "duration": 5,
    "start_time": "2022-10-31T13:10:49.677Z"
   },
   {
    "duration": 13,
    "start_time": "2022-10-31T13:26:42.567Z"
   },
   {
    "duration": 25,
    "start_time": "2022-10-31T13:26:58.779Z"
   },
   {
    "duration": 164,
    "start_time": "2022-10-31T13:27:55.041Z"
   },
   {
    "duration": 26,
    "start_time": "2022-10-31T13:27:59.375Z"
   },
   {
    "duration": 21,
    "start_time": "2022-10-31T13:29:41.641Z"
   },
   {
    "duration": 176,
    "start_time": "2022-10-31T13:30:20.619Z"
   },
   {
    "duration": 10,
    "start_time": "2022-10-31T13:32:33.213Z"
   },
   {
    "duration": 13,
    "start_time": "2022-10-31T13:32:57.228Z"
   },
   {
    "duration": 14,
    "start_time": "2022-10-31T13:33:39.794Z"
   },
   {
    "duration": 13,
    "start_time": "2022-10-31T13:34:04.380Z"
   },
   {
    "duration": 13,
    "start_time": "2022-10-31T13:34:17.504Z"
   },
   {
    "duration": 15,
    "start_time": "2022-10-31T13:34:27.250Z"
   },
   {
    "duration": 6,
    "start_time": "2022-10-31T13:35:16.639Z"
   },
   {
    "duration": 138,
    "start_time": "2022-10-31T13:39:09.100Z"
   },
   {
    "duration": 23,
    "start_time": "2022-10-31T13:40:10.471Z"
   },
   {
    "duration": 97,
    "start_time": "2022-10-31T13:40:29.411Z"
   },
   {
    "duration": 5,
    "start_time": "2022-10-31T13:48:43.290Z"
   },
   {
    "duration": 4,
    "start_time": "2022-10-31T13:48:50.404Z"
   },
   {
    "duration": 423,
    "start_time": "2022-10-31T13:50:03.332Z"
   },
   {
    "duration": 38,
    "start_time": "2022-10-31T13:50:49.802Z"
   },
   {
    "duration": 18,
    "start_time": "2022-10-31T13:54:20.843Z"
   },
   {
    "duration": 51,
    "start_time": "2022-10-31T14:04:27.340Z"
   },
   {
    "duration": 8,
    "start_time": "2022-10-31T14:04:34.021Z"
   },
   {
    "duration": 10,
    "start_time": "2022-10-31T14:04:37.854Z"
   },
   {
    "duration": 10,
    "start_time": "2022-10-31T14:06:09.304Z"
   },
   {
    "duration": 8,
    "start_time": "2022-10-31T14:07:44.908Z"
   },
   {
    "duration": 10,
    "start_time": "2022-10-31T14:07:55.735Z"
   },
   {
    "duration": 10,
    "start_time": "2022-10-31T14:08:18.381Z"
   },
   {
    "duration": 10,
    "start_time": "2022-10-31T14:08:25.421Z"
   },
   {
    "duration": 18,
    "start_time": "2022-10-31T14:11:06.868Z"
   },
   {
    "duration": 45,
    "start_time": "2022-10-31T14:13:19.429Z"
   },
   {
    "duration": 35,
    "start_time": "2022-10-31T14:15:56.613Z"
   },
   {
    "duration": 43,
    "start_time": "2022-10-31T14:16:08.354Z"
   },
   {
    "duration": 39,
    "start_time": "2022-10-31T14:16:19.745Z"
   },
   {
    "duration": 34,
    "start_time": "2022-10-31T14:16:27.934Z"
   },
   {
    "duration": 33,
    "start_time": "2022-10-31T14:17:24.863Z"
   },
   {
    "duration": 41,
    "start_time": "2022-10-31T14:18:10.659Z"
   },
   {
    "duration": 35,
    "start_time": "2022-10-31T14:18:31.171Z"
   },
   {
    "duration": 19,
    "start_time": "2022-10-31T14:21:11.140Z"
   },
   {
    "duration": 44,
    "start_time": "2022-10-31T14:21:47.339Z"
   },
   {
    "duration": 16,
    "start_time": "2022-10-31T14:21:50.883Z"
   },
   {
    "duration": 37,
    "start_time": "2022-10-31T14:22:32.351Z"
   },
   {
    "duration": 16,
    "start_time": "2022-10-31T14:22:37.657Z"
   },
   {
    "duration": 33,
    "start_time": "2022-10-31T14:22:47.761Z"
   },
   {
    "duration": 33,
    "start_time": "2022-10-31T14:23:09.298Z"
   },
   {
    "duration": 17,
    "start_time": "2022-10-31T14:23:15.268Z"
   },
   {
    "duration": 1328,
    "start_time": "2022-11-01T10:52:40.301Z"
   },
   {
    "duration": 94,
    "start_time": "2022-11-01T10:52:41.632Z"
   },
   {
    "duration": 13,
    "start_time": "2022-11-01T10:52:41.727Z"
   },
   {
    "duration": 12,
    "start_time": "2022-11-01T10:52:41.742Z"
   },
   {
    "duration": 170,
    "start_time": "2022-11-01T10:52:41.756Z"
   },
   {
    "duration": 25,
    "start_time": "2022-11-01T10:52:41.927Z"
   },
   {
    "duration": 242,
    "start_time": "2022-11-01T10:52:41.954Z"
   },
   {
    "duration": 311,
    "start_time": "2022-11-01T10:52:42.198Z"
   },
   {
    "duration": 221,
    "start_time": "2022-11-01T10:52:42.510Z"
   },
   {
    "duration": 381,
    "start_time": "2022-11-01T10:52:42.733Z"
   },
   {
    "duration": 245,
    "start_time": "2022-11-01T10:52:43.115Z"
   },
   {
    "duration": 321,
    "start_time": "2022-11-01T10:52:43.362Z"
   },
   {
    "duration": 173,
    "start_time": "2022-11-01T10:52:43.685Z"
   },
   {
    "duration": 5,
    "start_time": "2022-11-01T10:52:43.861Z"
   },
   {
    "duration": 205,
    "start_time": "2022-11-01T10:52:43.868Z"
   },
   {
    "duration": 5,
    "start_time": "2022-11-01T10:52:44.075Z"
   },
   {
    "duration": 53,
    "start_time": "2022-11-01T10:52:44.082Z"
   },
   {
    "duration": 17,
    "start_time": "2022-11-01T10:52:44.137Z"
   },
   {
    "duration": 35,
    "start_time": "2022-11-01T10:52:44.155Z"
   },
   {
    "duration": 47,
    "start_time": "2022-11-01T10:52:44.192Z"
   },
   {
    "duration": 248,
    "start_time": "2022-11-01T11:32:24.417Z"
   },
   {
    "duration": 327,
    "start_time": "2022-11-01T11:33:18.781Z"
   },
   {
    "duration": 366,
    "start_time": "2022-11-01T11:34:31.018Z"
   },
   {
    "duration": 252,
    "start_time": "2022-11-01T11:39:01.644Z"
   },
   {
    "duration": 349,
    "start_time": "2022-11-01T11:42:10.417Z"
   },
   {
    "duration": 174,
    "start_time": "2022-11-01T11:43:44.217Z"
   },
   {
    "duration": 266,
    "start_time": "2022-11-01T11:52:17.955Z"
   },
   {
    "duration": 204,
    "start_time": "2022-11-01T11:52:56.206Z"
   },
   {
    "duration": 311,
    "start_time": "2022-11-01T11:56:58.065Z"
   },
   {
    "duration": 211,
    "start_time": "2022-11-01T11:57:12.493Z"
   },
   {
    "duration": 38,
    "start_time": "2022-11-01T12:05:18.651Z"
   },
   {
    "duration": 49,
    "start_time": "2022-11-01T12:05:42.299Z"
   },
   {
    "duration": 178,
    "start_time": "2022-11-01T12:06:49.518Z"
   },
   {
    "duration": 172,
    "start_time": "2022-11-01T12:07:02.788Z"
   },
   {
    "duration": 170,
    "start_time": "2022-11-01T12:07:42.206Z"
   },
   {
    "duration": 1130,
    "start_time": "2022-11-01T14:34:37.776Z"
   },
   {
    "duration": 143,
    "start_time": "2022-11-01T14:34:38.908Z"
   },
   {
    "duration": 10,
    "start_time": "2022-11-01T14:34:39.053Z"
   },
   {
    "duration": 10,
    "start_time": "2022-11-01T14:34:39.065Z"
   },
   {
    "duration": 211,
    "start_time": "2022-11-01T14:34:39.076Z"
   },
   {
    "duration": 20,
    "start_time": "2022-11-01T14:34:39.288Z"
   },
   {
    "duration": 246,
    "start_time": "2022-11-01T14:34:39.309Z"
   },
   {
    "duration": 280,
    "start_time": "2022-11-01T14:34:39.556Z"
   },
   {
    "duration": 196,
    "start_time": "2022-11-01T14:34:39.838Z"
   },
   {
    "duration": 324,
    "start_time": "2022-11-01T14:34:40.036Z"
   },
   {
    "duration": 220,
    "start_time": "2022-11-01T14:34:40.361Z"
   },
   {
    "duration": 284,
    "start_time": "2022-11-01T14:34:40.583Z"
   },
   {
    "duration": 138,
    "start_time": "2022-11-01T14:34:40.868Z"
   },
   {
    "duration": 5,
    "start_time": "2022-11-01T14:34:41.008Z"
   },
   {
    "duration": 224,
    "start_time": "2022-11-01T14:34:41.015Z"
   },
   {
    "duration": 177,
    "start_time": "2022-11-01T14:34:41.240Z"
   },
   {
    "duration": 11,
    "start_time": "2022-11-01T14:34:41.419Z"
   },
   {
    "duration": 47,
    "start_time": "2022-11-01T14:34:41.432Z"
   },
   {
    "duration": 15,
    "start_time": "2022-11-01T14:34:41.480Z"
   },
   {
    "duration": 43,
    "start_time": "2022-11-01T14:34:41.497Z"
   },
   {
    "duration": 16,
    "start_time": "2022-11-01T14:34:41.542Z"
   },
   {
    "duration": 86,
    "start_time": "2022-11-01T16:44:08.933Z"
   },
   {
    "duration": 1010,
    "start_time": "2022-11-01T16:44:21.267Z"
   },
   {
    "duration": 86,
    "start_time": "2022-11-01T16:44:22.279Z"
   },
   {
    "duration": 11,
    "start_time": "2022-11-01T16:44:22.367Z"
   },
   {
    "duration": 20,
    "start_time": "2022-11-01T16:44:22.379Z"
   },
   {
    "duration": 97,
    "start_time": "2022-11-01T16:44:22.400Z"
   },
   {
    "duration": 20,
    "start_time": "2022-11-01T16:44:22.498Z"
   },
   {
    "duration": 214,
    "start_time": "2022-11-01T16:44:22.519Z"
   },
   {
    "duration": 250,
    "start_time": "2022-11-01T16:44:22.735Z"
   },
   {
    "duration": 187,
    "start_time": "2022-11-01T16:44:22.986Z"
   },
   {
    "duration": 269,
    "start_time": "2022-11-01T16:44:23.176Z"
   },
   {
    "duration": 207,
    "start_time": "2022-11-01T16:44:23.447Z"
   },
   {
    "duration": 269,
    "start_time": "2022-11-01T16:44:23.656Z"
   },
   {
    "duration": 139,
    "start_time": "2022-11-01T16:44:23.927Z"
   },
   {
    "duration": 8,
    "start_time": "2022-11-01T16:44:24.068Z"
   },
   {
    "duration": 177,
    "start_time": "2022-11-01T16:44:24.077Z"
   },
   {
    "duration": 182,
    "start_time": "2022-11-01T16:44:24.256Z"
   },
   {
    "duration": 4,
    "start_time": "2022-11-01T16:44:24.439Z"
   },
   {
    "duration": 63,
    "start_time": "2022-11-01T16:44:24.445Z"
   },
   {
    "duration": 14,
    "start_time": "2022-11-01T16:44:24.509Z"
   },
   {
    "duration": 53,
    "start_time": "2022-11-01T16:44:24.524Z"
   },
   {
    "duration": 19,
    "start_time": "2022-11-01T16:44:24.579Z"
   },
   {
    "duration": 108,
    "start_time": "2022-11-01T16:44:24.600Z"
   },
   {
    "duration": 14,
    "start_time": "2022-11-01T16:49:01.681Z"
   },
   {
    "duration": 1379,
    "start_time": "2022-11-02T10:32:19.429Z"
   },
   {
    "duration": 148,
    "start_time": "2022-11-02T10:32:20.811Z"
   },
   {
    "duration": 14,
    "start_time": "2022-11-02T10:32:20.961Z"
   },
   {
    "duration": 19,
    "start_time": "2022-11-02T10:32:20.978Z"
   },
   {
    "duration": 173,
    "start_time": "2022-11-02T10:32:20.999Z"
   },
   {
    "duration": 57,
    "start_time": "2022-11-02T10:32:21.177Z"
   },
   {
    "duration": 14,
    "start_time": "2022-11-02T10:35:13.404Z"
   },
   {
    "duration": 15,
    "start_time": "2022-11-02T10:39:56.957Z"
   },
   {
    "duration": 17,
    "start_time": "2022-11-02T10:40:13.177Z"
   },
   {
    "duration": 16,
    "start_time": "2022-11-02T10:51:43.700Z"
   },
   {
    "duration": 114,
    "start_time": "2022-11-02T11:14:16.704Z"
   },
   {
    "duration": 4,
    "start_time": "2022-11-02T11:15:02.518Z"
   },
   {
    "duration": 47,
    "start_time": "2022-11-02T11:15:02.524Z"
   },
   {
    "duration": 13,
    "start_time": "2022-11-02T11:15:02.573Z"
   },
   {
    "duration": 32,
    "start_time": "2022-11-02T11:15:02.588Z"
   },
   {
    "duration": 111,
    "start_time": "2022-11-02T11:15:02.622Z"
   },
   {
    "duration": 33,
    "start_time": "2022-11-02T11:15:02.735Z"
   },
   {
    "duration": 16,
    "start_time": "2022-11-02T11:15:02.770Z"
   },
   {
    "duration": 302,
    "start_time": "2022-11-02T11:15:02.788Z"
   },
   {
    "duration": 352,
    "start_time": "2022-11-02T11:15:03.092Z"
   },
   {
    "duration": 253,
    "start_time": "2022-11-02T11:15:03.447Z"
   },
   {
    "duration": 413,
    "start_time": "2022-11-02T11:15:03.702Z"
   },
   {
    "duration": 264,
    "start_time": "2022-11-02T11:15:04.116Z"
   },
   {
    "duration": 327,
    "start_time": "2022-11-02T11:15:04.382Z"
   },
   {
    "duration": 171,
    "start_time": "2022-11-02T11:15:04.710Z"
   },
   {
    "duration": 5,
    "start_time": "2022-11-02T11:15:04.882Z"
   },
   {
    "duration": 231,
    "start_time": "2022-11-02T11:15:04.889Z"
   },
   {
    "duration": 243,
    "start_time": "2022-11-02T11:15:05.122Z"
   },
   {
    "duration": 5,
    "start_time": "2022-11-02T11:15:05.367Z"
   },
   {
    "duration": 58,
    "start_time": "2022-11-02T11:15:05.373Z"
   },
   {
    "duration": 21,
    "start_time": "2022-11-02T11:15:05.434Z"
   },
   {
    "duration": 37,
    "start_time": "2022-11-02T11:15:05.457Z"
   },
   {
    "duration": 57,
    "start_time": "2022-11-02T11:15:05.496Z"
   },
   {
    "duration": 5,
    "start_time": "2022-11-02T11:15:18.527Z"
   },
   {
    "duration": 10,
    "start_time": "2022-11-02T11:17:42.779Z"
   },
   {
    "duration": 11,
    "start_time": "2022-11-02T11:17:56.078Z"
   },
   {
    "duration": 13,
    "start_time": "2022-11-02T11:18:05.697Z"
   },
   {
    "duration": 11,
    "start_time": "2022-11-02T11:18:17.865Z"
   },
   {
    "duration": 9,
    "start_time": "2022-11-02T11:18:25.052Z"
   },
   {
    "duration": 10,
    "start_time": "2022-11-02T11:18:30.815Z"
   },
   {
    "duration": 12,
    "start_time": "2022-11-02T11:18:47.925Z"
   },
   {
    "duration": 10,
    "start_time": "2022-11-02T11:19:09.343Z"
   },
   {
    "duration": 10,
    "start_time": "2022-11-02T11:19:17.495Z"
   },
   {
    "duration": 9,
    "start_time": "2022-11-02T11:19:23.101Z"
   },
   {
    "duration": 89,
    "start_time": "2022-11-02T11:22:01.023Z"
   },
   {
    "duration": 91,
    "start_time": "2022-11-02T11:22:45.854Z"
   },
   {
    "duration": 11,
    "start_time": "2022-11-02T11:23:00.869Z"
   },
   {
    "duration": 1302,
    "start_time": "2022-11-02T11:24:06.580Z"
   },
   {
    "duration": 8,
    "start_time": "2022-11-02T11:24:54.196Z"
   },
   {
    "duration": 1308,
    "start_time": "2022-11-02T11:25:20.159Z"
   },
   {
    "duration": 1278,
    "start_time": "2022-11-02T11:26:38.287Z"
   },
   {
    "duration": 20,
    "start_time": "2022-11-02T11:26:56.493Z"
   },
   {
    "duration": 1413,
    "start_time": "2022-11-02T11:27:14.415Z"
   },
   {
    "duration": 24,
    "start_time": "2022-11-02T11:27:23.472Z"
   },
   {
    "duration": 18,
    "start_time": "2022-11-02T11:27:40.668Z"
   },
   {
    "duration": 14,
    "start_time": "2022-11-02T11:28:12.221Z"
   },
   {
    "duration": 1068,
    "start_time": "2022-11-02T11:29:03.951Z"
   },
   {
    "duration": 13,
    "start_time": "2022-11-02T11:29:12.401Z"
   },
   {
    "duration": 9,
    "start_time": "2022-11-02T11:30:32.560Z"
   },
   {
    "duration": 17,
    "start_time": "2022-11-02T11:30:37.455Z"
   },
   {
    "duration": 17,
    "start_time": "2022-11-02T11:30:50.794Z"
   },
   {
    "duration": 20,
    "start_time": "2022-11-02T11:31:04.209Z"
   },
   {
    "duration": 13,
    "start_time": "2022-11-02T11:31:18.404Z"
   },
   {
    "duration": 22,
    "start_time": "2022-11-02T11:32:34.579Z"
   },
   {
    "duration": 21,
    "start_time": "2022-11-02T11:33:00.348Z"
   },
   {
    "duration": 24,
    "start_time": "2022-11-02T11:33:11.665Z"
   },
   {
    "duration": 41,
    "start_time": "2022-11-02T11:33:57.766Z"
   },
   {
    "duration": 45,
    "start_time": "2022-11-02T11:34:11.420Z"
   },
   {
    "duration": 233,
    "start_time": "2022-11-02T11:40:57.504Z"
   },
   {
    "duration": 339,
    "start_time": "2022-11-02T11:43:06.665Z"
   },
   {
    "duration": 366,
    "start_time": "2022-11-02T12:17:32.100Z"
   },
   {
    "duration": 314,
    "start_time": "2022-11-02T12:18:01.067Z"
   },
   {
    "duration": 313,
    "start_time": "2022-11-02T12:18:10.659Z"
   },
   {
    "duration": 191,
    "start_time": "2022-11-02T12:20:53.279Z"
   },
   {
    "duration": 220,
    "start_time": "2022-11-02T12:21:21.741Z"
   },
   {
    "duration": 264,
    "start_time": "2022-11-02T12:21:28.005Z"
   },
   {
    "duration": 5,
    "start_time": "2022-11-02T13:39:39.790Z"
   },
   {
    "duration": 5,
    "start_time": "2022-11-02T13:52:32.346Z"
   },
   {
    "duration": 35,
    "start_time": "2022-11-02T15:53:39.038Z"
   },
   {
    "duration": 64,
    "start_time": "2022-11-02T15:54:29.598Z"
   },
   {
    "duration": 42,
    "start_time": "2022-11-02T15:54:34.182Z"
   },
   {
    "duration": 46,
    "start_time": "2022-11-02T15:55:07.960Z"
   },
   {
    "duration": 18,
    "start_time": "2022-11-02T15:59:21.593Z"
   },
   {
    "duration": 35,
    "start_time": "2022-11-02T16:04:36.920Z"
   },
   {
    "duration": 3,
    "start_time": "2022-11-02T16:04:47.548Z"
   },
   {
    "duration": 45,
    "start_time": "2022-11-02T16:04:47.553Z"
   },
   {
    "duration": 13,
    "start_time": "2022-11-02T16:04:47.599Z"
   },
   {
    "duration": 29,
    "start_time": "2022-11-02T16:04:47.614Z"
   },
   {
    "duration": 125,
    "start_time": "2022-11-02T16:04:47.645Z"
   },
   {
    "duration": 58,
    "start_time": "2022-11-02T16:04:47.773Z"
   },
   {
    "duration": 34,
    "start_time": "2022-11-02T16:04:47.833Z"
   },
   {
    "duration": 306,
    "start_time": "2022-11-02T16:04:47.870Z"
   },
   {
    "duration": 247,
    "start_time": "2022-11-02T16:04:48.178Z"
   },
   {
    "duration": 262,
    "start_time": "2022-11-02T16:04:48.427Z"
   },
   {
    "duration": 376,
    "start_time": "2022-11-02T16:04:48.691Z"
   },
   {
    "duration": 351,
    "start_time": "2022-11-02T16:04:49.069Z"
   },
   {
    "duration": 361,
    "start_time": "2022-11-02T16:04:49.422Z"
   },
   {
    "duration": 182,
    "start_time": "2022-11-02T16:04:49.785Z"
   },
   {
    "duration": 5,
    "start_time": "2022-11-02T16:04:49.969Z"
   },
   {
    "duration": 246,
    "start_time": "2022-11-02T16:04:49.976Z"
   },
   {
    "duration": 239,
    "start_time": "2022-11-02T16:04:50.224Z"
   },
   {
    "duration": 4,
    "start_time": "2022-11-02T16:04:50.465Z"
   },
   {
    "duration": 61,
    "start_time": "2022-11-02T16:04:50.471Z"
   },
   {
    "duration": 18,
    "start_time": "2022-11-02T16:04:50.534Z"
   },
   {
    "duration": 41,
    "start_time": "2022-11-02T16:04:50.554Z"
   },
   {
    "duration": 0,
    "start_time": "2022-11-02T16:04:50.598Z"
   },
   {
    "duration": 30,
    "start_time": "2022-11-02T16:08:48.935Z"
   },
   {
    "duration": 4,
    "start_time": "2022-11-02T16:20:20.730Z"
   },
   {
    "duration": 3,
    "start_time": "2022-11-02T16:21:02.313Z"
   },
   {
    "duration": 36,
    "start_time": "2022-11-02T16:21:11.430Z"
   },
   {
    "duration": 40,
    "start_time": "2022-11-02T16:23:55.993Z"
   },
   {
    "duration": 18,
    "start_time": "2022-11-02T16:29:14.749Z"
   },
   {
    "duration": 21,
    "start_time": "2022-11-02T16:29:28.016Z"
   },
   {
    "duration": 3,
    "start_time": "2022-11-02T16:29:47.211Z"
   },
   {
    "duration": 39,
    "start_time": "2022-11-02T16:29:47.216Z"
   },
   {
    "duration": 12,
    "start_time": "2022-11-02T16:29:47.257Z"
   },
   {
    "duration": 12,
    "start_time": "2022-11-02T16:29:47.271Z"
   },
   {
    "duration": 85,
    "start_time": "2022-11-02T16:29:47.285Z"
   },
   {
    "duration": 26,
    "start_time": "2022-11-02T16:29:47.371Z"
   },
   {
    "duration": 19,
    "start_time": "2022-11-02T16:29:47.433Z"
   },
   {
    "duration": 268,
    "start_time": "2022-11-02T16:29:47.453Z"
   },
   {
    "duration": 318,
    "start_time": "2022-11-02T16:29:47.723Z"
   },
   {
    "duration": 300,
    "start_time": "2022-11-02T16:29:48.044Z"
   },
   {
    "duration": 344,
    "start_time": "2022-11-02T16:29:48.346Z"
   },
   {
    "duration": 257,
    "start_time": "2022-11-02T16:29:48.692Z"
   },
   {
    "duration": 337,
    "start_time": "2022-11-02T16:29:48.951Z"
   },
   {
    "duration": 270,
    "start_time": "2022-11-02T16:29:49.289Z"
   },
   {
    "duration": 5,
    "start_time": "2022-11-02T16:29:49.561Z"
   },
   {
    "duration": 6,
    "start_time": "2022-11-02T16:29:49.568Z"
   },
   {
    "duration": 232,
    "start_time": "2022-11-02T16:29:49.576Z"
   },
   {
    "duration": 227,
    "start_time": "2022-11-02T16:29:49.809Z"
   },
   {
    "duration": 5,
    "start_time": "2022-11-02T16:29:50.038Z"
   },
   {
    "duration": 11,
    "start_time": "2022-11-02T16:29:50.045Z"
   },
   {
    "duration": 47,
    "start_time": "2022-11-02T16:29:50.059Z"
   },
   {
    "duration": 38,
    "start_time": "2022-11-02T16:29:50.108Z"
   },
   {
    "duration": 34,
    "start_time": "2022-11-02T16:29:50.148Z"
   },
   {
    "duration": 18,
    "start_time": "2022-11-02T16:29:50.183Z"
   },
   {
    "duration": 1151,
    "start_time": "2022-11-03T15:13:09.724Z"
   },
   {
    "duration": 142,
    "start_time": "2022-11-03T15:13:10.877Z"
   },
   {
    "duration": 11,
    "start_time": "2022-11-03T15:13:11.021Z"
   },
   {
    "duration": 11,
    "start_time": "2022-11-03T15:13:11.033Z"
   },
   {
    "duration": 163,
    "start_time": "2022-11-03T15:13:11.045Z"
   },
   {
    "duration": 22,
    "start_time": "2022-11-03T15:13:11.210Z"
   },
   {
    "duration": 14,
    "start_time": "2022-11-03T15:13:11.233Z"
   },
   {
    "duration": 256,
    "start_time": "2022-11-03T15:13:11.249Z"
   },
   {
    "duration": 321,
    "start_time": "2022-11-03T15:13:11.506Z"
   },
   {
    "duration": 205,
    "start_time": "2022-11-03T15:13:11.829Z"
   },
   {
    "duration": 330,
    "start_time": "2022-11-03T15:13:12.035Z"
   },
   {
    "duration": 235,
    "start_time": "2022-11-03T15:13:12.367Z"
   },
   {
    "duration": 325,
    "start_time": "2022-11-03T15:13:12.604Z"
   },
   {
    "duration": 160,
    "start_time": "2022-11-03T15:13:12.930Z"
   },
   {
    "duration": 4,
    "start_time": "2022-11-03T15:13:13.092Z"
   },
   {
    "duration": 6,
    "start_time": "2022-11-03T15:13:13.098Z"
   },
   {
    "duration": 196,
    "start_time": "2022-11-03T15:13:13.105Z"
   },
   {
    "duration": 194,
    "start_time": "2022-11-03T15:13:13.303Z"
   },
   {
    "duration": 4,
    "start_time": "2022-11-03T15:13:13.498Z"
   },
   {
    "duration": 9,
    "start_time": "2022-11-03T15:13:13.503Z"
   },
   {
    "duration": 32,
    "start_time": "2022-11-03T15:13:13.523Z"
   },
   {
    "duration": 14,
    "start_time": "2022-11-03T15:13:13.556Z"
   },
   {
    "duration": 30,
    "start_time": "2022-11-03T15:13:13.572Z"
   },
   {
    "duration": 16,
    "start_time": "2022-11-03T15:13:13.621Z"
   },
   {
    "duration": 2042,
    "start_time": "2022-11-11T08:56:29.828Z"
   },
   {
    "duration": 135,
    "start_time": "2022-11-11T08:56:31.875Z"
   },
   {
    "duration": 16,
    "start_time": "2022-11-11T08:56:32.012Z"
   },
   {
    "duration": 36,
    "start_time": "2022-11-11T08:56:32.030Z"
   },
   {
    "duration": 193,
    "start_time": "2022-11-11T08:56:32.068Z"
   },
   {
    "duration": 28,
    "start_time": "2022-11-11T08:56:32.267Z"
   },
   {
    "duration": 17,
    "start_time": "2022-11-11T08:56:32.297Z"
   },
   {
    "duration": 302,
    "start_time": "2022-11-11T08:56:32.316Z"
   },
   {
    "duration": 399,
    "start_time": "2022-11-11T08:56:32.620Z"
   },
   {
    "duration": 274,
    "start_time": "2022-11-11T08:56:33.023Z"
   },
   {
    "duration": 442,
    "start_time": "2022-11-11T08:56:33.300Z"
   },
   {
    "duration": 279,
    "start_time": "2022-11-11T08:56:33.751Z"
   },
   {
    "duration": 378,
    "start_time": "2022-11-11T08:56:34.032Z"
   },
   {
    "duration": 214,
    "start_time": "2022-11-11T08:56:34.412Z"
   },
   {
    "duration": 4,
    "start_time": "2022-11-11T08:56:34.628Z"
   },
   {
    "duration": 19,
    "start_time": "2022-11-11T08:56:34.635Z"
   },
   {
    "duration": 263,
    "start_time": "2022-11-11T08:56:34.662Z"
   },
   {
    "duration": 283,
    "start_time": "2022-11-11T08:56:34.927Z"
   },
   {
    "duration": 5,
    "start_time": "2022-11-11T08:56:35.212Z"
   },
   {
    "duration": 9,
    "start_time": "2022-11-11T08:56:35.219Z"
   },
   {
    "duration": 64,
    "start_time": "2022-11-11T08:56:35.230Z"
   },
   {
    "duration": 17,
    "start_time": "2022-11-11T08:56:35.296Z"
   },
   {
    "duration": 63,
    "start_time": "2022-11-11T08:56:35.315Z"
   },
   {
    "duration": 20,
    "start_time": "2022-11-11T08:56:35.380Z"
   }
  ],
  "kernelspec": {
   "display_name": "Python 3 (ipykernel)",
   "language": "python",
   "name": "python3"
  },
  "language_info": {
   "codemirror_mode": {
    "name": "ipython",
    "version": 3
   },
   "file_extension": ".py",
   "mimetype": "text/x-python",
   "name": "python",
   "nbconvert_exporter": "python",
   "pygments_lexer": "ipython3",
   "version": "3.9.5"
  },
  "toc": {
   "base_numbering": 1,
   "nav_menu": {},
   "number_sections": true,
   "sideBar": true,
   "skip_h1_title": true,
   "title_cell": "Table of Contents",
   "title_sidebar": "Contents",
   "toc_cell": false,
   "toc_position": {},
   "toc_section_display": true,
   "toc_window_display": true
  }
 },
 "nbformat": 4,
 "nbformat_minor": 2
}
